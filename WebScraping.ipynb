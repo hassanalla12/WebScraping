{
  "cells": [
    {
      "cell_type": "code",
      "execution_count": null,
      "metadata": {
        "colab": {
          "base_uri": "https://localhost:8080/"
        },
        "id": "0SXm1MIhCA97",
        "outputId": "f29e8d38-170b-44d1-b27f-4914ac2318fe"
      },
      "outputs": [
        {
          "name": "stdout",
          "output_type": "stream",
          "text": [
            "Requirement already satisfied: seaborn in /usr/local/lib/python3.10/dist-packages (0.12.2)\n",
            "Requirement already satisfied: numpy!=1.24.0,>=1.17 in /usr/local/lib/python3.10/dist-packages (from seaborn) (1.23.5)\n",
            "Requirement already satisfied: pandas>=0.25 in /usr/local/lib/python3.10/dist-packages (from seaborn) (1.5.3)\n",
            "Requirement already satisfied: matplotlib!=3.6.1,>=3.1 in /usr/local/lib/python3.10/dist-packages (from seaborn) (3.7.1)\n",
            "Requirement already satisfied: contourpy>=1.0.1 in /usr/local/lib/python3.10/dist-packages (from matplotlib!=3.6.1,>=3.1->seaborn) (1.1.1)\n",
            "Requirement already satisfied: cycler>=0.10 in /usr/local/lib/python3.10/dist-packages (from matplotlib!=3.6.1,>=3.1->seaborn) (0.12.1)\n",
            "Requirement already satisfied: fonttools>=4.22.0 in /usr/local/lib/python3.10/dist-packages (from matplotlib!=3.6.1,>=3.1->seaborn) (4.43.1)\n",
            "Requirement already satisfied: kiwisolver>=1.0.1 in /usr/local/lib/python3.10/dist-packages (from matplotlib!=3.6.1,>=3.1->seaborn) (1.4.5)\n",
            "Requirement already satisfied: packaging>=20.0 in /usr/local/lib/python3.10/dist-packages (from matplotlib!=3.6.1,>=3.1->seaborn) (23.2)\n",
            "Requirement already satisfied: pillow>=6.2.0 in /usr/local/lib/python3.10/dist-packages (from matplotlib!=3.6.1,>=3.1->seaborn) (9.4.0)\n",
            "Requirement already satisfied: pyparsing>=2.3.1 in /usr/local/lib/python3.10/dist-packages (from matplotlib!=3.6.1,>=3.1->seaborn) (3.1.1)\n",
            "Requirement already satisfied: python-dateutil>=2.7 in /usr/local/lib/python3.10/dist-packages (from matplotlib!=3.6.1,>=3.1->seaborn) (2.8.2)\n",
            "Requirement already satisfied: pytz>=2020.1 in /usr/local/lib/python3.10/dist-packages (from pandas>=0.25->seaborn) (2023.3.post1)\n",
            "Requirement already satisfied: six>=1.5 in /usr/local/lib/python3.10/dist-packages (from python-dateutil>=2.7->matplotlib!=3.6.1,>=3.1->seaborn) (1.16.0)\n"
          ]
        }
      ],
      "source": [
        "pip install seaborn"
      ]
    },
    {
      "cell_type": "code",
      "execution_count": null,
      "metadata": {
        "colab": {
          "base_uri": "https://localhost:8080/"
        },
        "id": "LKLMnBx3CK8a",
        "outputId": "ba8fcf29-99ab-4f07-fe5f-268deb1cfacf"
      },
      "outputs": [
        {
          "name": "stdout",
          "output_type": "stream",
          "text": [
            "Requirement already satisfied: html5lib in /usr/local/lib/python3.10/dist-packages (1.1)\n",
            "Requirement already satisfied: six>=1.9 in /usr/local/lib/python3.10/dist-packages (from html5lib) (1.16.0)\n",
            "Requirement already satisfied: webencodings in /usr/local/lib/python3.10/dist-packages (from html5lib) (0.5.1)\n"
          ]
        }
      ],
      "source": [
        "pip install html5lib"
      ]
    },
    {
      "cell_type": "code",
      "execution_count": null,
      "metadata": {
        "id": "CRxW1jC_B3fq"
      },
      "outputs": [],
      "source": [
        "import pandas as pd\n",
        "import numpy as np\n",
        "import matplotlib.pyplot as plt\n",
        "import seaborn as sns\n",
        "\n",
        "\n",
        "\n",
        "import re\n",
        "import time\n",
        "from datetime import datetime\n",
        "import matplotlib.dates as mdates\n",
        "import matplotlib.ticker as ticker\n",
        "from urllib.request import urlopen\n",
        "from bs4 import BeautifulSoup\n",
        "import requests\n",
        "\n",
        "#no_pages = 2\n",
        "\n",
        "def get_data(pageNo):\n",
        "    headers = {\"User-Agent\":\"Mozilla/5.0 (Windows NT 10.0; Win64; x64; rv:66.0) Gecko/20100101 Firefox/66.0\", \"Accept-Encoding\":\"gzip, deflate\", \"Accept\":\"text/html,application/xhtml+xml,application/xml;q=0.9,*/*;q=0.8\", \"DNT\":\"1\",\"Connection\":\"close\", \"Upgrade-Insecure-Requests\":\"1\"}\n",
        "\n",
        "    r = requests.get('https://www.amazon.in/gp/bestsellers/books/ref=zg_bs_pg_'+str(pageNo)+'?ie=UTF8&pg='+str(pageNo), headers=headers)#, proxies=proxies)\n",
        "    content = r.content\n",
        "    soup = BeautifulSoup(content,'html5lib')\n",
        "    #print(soup)\n",
        "\n",
        "    alls = []\n",
        "    for d in soup.findAll('div', attrs={'class':'p13n-sc-uncoverable-faceout'}): #find all the instances of a tag on a page\n",
        "        #Tags (<tags>) are written within diamond brackets <>\n",
        "        #print(d)\n",
        "        #If you instead only want to find the first instance of a tag,\n",
        "        #you can use the find method, which will return a single BeautifulSoup object\n",
        "        name = d.find('div', attrs={'class':'a-section a-spacing-mini _cDEzb_noop_3Xbw5'})\n",
        "        n = name.find_all('img', alt=True) # find_all returns a list\n",
        "        print(n[0]['alt'])\n",
        "        author = d.find('a', attrs={'class':'a-size-small a-link-child'})\n",
        "        #print(author.text)\n",
        "        rating = d.find('span', attrs={'class':'a-icon-alt'})\n",
        "        #print(rating.text)\n",
        "        #users_rated = d.find('span', attrs={'class':'a-size-small'})\n",
        "        users_rated = d.find('div', attrs={'class':'a-icon-row'})\n",
        "        #print(users_rated)\n",
        "        if(users_rated is not None ) :\n",
        "                users_rated=users_rated.find('span', attrs={'class':'a-size-small'})\n",
        "                #print(users_rated.text)\n",
        "        #print(users_rated.text)\n",
        "        price = d.find('span', attrs={'class':'_cDEzb_p13n-sc-price_3mJ9Z'})\n",
        "        #print(price.text)\n",
        "\n",
        "\n",
        "        all1=[]\n",
        "\n",
        "        if name is not None:\n",
        "            #print(n[0]['alt'])\n",
        "            all1.append(n[0]['alt'])\n",
        "        else:\n",
        "            all1.append(\"unknown-product\")\n",
        "\n",
        "        if author is not None:\n",
        "            #print(author.text)\n",
        "            all1.append(author.text)\n",
        "        elif author is None:\n",
        "            author = d.find('span', attrs={'class':'a-size-small a-color-base'})\n",
        "            if author is not None:\n",
        "                all1.append(author.text)\n",
        "            else:\n",
        "                all1.append('0')\n",
        "\n",
        "        if rating is not None:\n",
        "            #print(rating.text)\n",
        "            all1.append(rating.text)\n",
        "        else:\n",
        "            all1.append('-1')\n",
        "\n",
        "        if users_rated is not None:\n",
        "            #print(price.text)\n",
        "            all1.append(users_rated.text)\n",
        "        else:\n",
        "            all1.append('0')\n",
        "\n",
        "        if price is not None:\n",
        "            #print(price.text)\n",
        "            all1.append(price.text)\n",
        "        else:\n",
        "            all1.append('0')\n",
        "        alls.append(all1)\n",
        "    return alls\n",
        "\n"
      ]
    },
    {
      "cell_type": "code",
      "execution_count": null,
      "metadata": {
        "colab": {
          "base_uri": "https://localhost:8080/"
        },
        "id": "vseldyIxeCkV",
        "outputId": "3b5a2966-c787-4c86-8f93-87406b7c4a03"
      },
      "outputs": [
        {
          "name": "stdout",
          "output_type": "stream",
          "text": [
            "<div class=\"a-icon-row\"><a class=\"a-link-normal\" href=\"/product-reviews/8175994754/ref=zg_bs_g_books_cr_sccl_1/262-1848917-0927500\" title=\"4.3 out of 5 stars\"><i class=\"a-icon a-icon-star-small a-star-small-4-5 aok-align-top\"><span class=\"a-icon-alt\">4.3 out of 5 stars</span></i> <span class=\"a-size-small\">2,802</span></a></div>\n",
            "2,802\n",
            "<div class=\"a-icon-row\"><a class=\"a-link-normal\" href=\"/product-reviews/1760630721/ref=zg_bs_g_books_cr_sccl_2/262-1848917-0927500\" title=\"4.5 out of 5 stars\"><i class=\"a-icon a-icon-star-small a-star-small-4-5 aok-align-top\"><span class=\"a-icon-alt\">4.5 out of 5 stars</span></i> <span class=\"a-size-small\">11,699</span></a></div>\n",
            "11,699\n",
            "<div class=\"a-icon-row\"><a class=\"a-link-normal\" href=\"/product-reviews/0141033576/ref=zg_bs_g_books_cr_sccl_3/262-1848917-0927500\" title=\"4.5 out of 5 stars\"><i class=\"a-icon a-icon-star-small a-star-small-4-5 aok-align-top\"><span class=\"a-icon-alt\">4.5 out of 5 stars</span></i> <span class=\"a-size-small\">28,142</span></a></div>\n",
            "28,142\n",
            "<div class=\"a-icon-row\"><a class=\"a-link-normal\" href=\"/product-reviews/9354405169/ref=zg_bs_g_books_cr_sccl_4/262-1848917-0927500\" title=\"4.7 out of 5 stars\"><i class=\"a-icon a-icon-star-small a-star-small-4-5 aok-align-top\"><span class=\"a-icon-alt\">4.7 out of 5 stars</span></i> <span class=\"a-size-small\">342</span></a></div>\n",
            "342\n",
            "<div class=\"a-icon-row\"><a class=\"a-link-normal\" href=\"/product-reviews/935555897X/ref=zg_bs_g_books_cr_sccl_5/262-1848917-0927500\" title=\"4.3 out of 5 stars\"><i class=\"a-icon a-icon-star-small a-star-small-4-5 aok-align-top\"><span class=\"a-icon-alt\">4.3 out of 5 stars</span></i> <span class=\"a-size-small\">285</span></a></div>\n",
            "285\n",
            "<div class=\"a-icon-row\"><a class=\"a-link-normal\" href=\"/product-reviews/0062641549/ref=zg_bs_g_books_cr_sccl_6/262-1848917-0927500\" title=\"4.5 out of 5 stars\"><i class=\"a-icon a-icon-star-small a-star-small-4-5 aok-align-top\"><span class=\"a-icon-alt\">4.5 out of 5 stars</span></i> <span class=\"a-size-small\">137,985</span></a></div>\n",
            "137,985\n",
            "<div class=\"a-icon-row\"><a class=\"a-link-normal\" href=\"/product-reviews/8172234988/ref=zg_bs_g_books_cr_sccl_7/262-1848917-0927500\" title=\"4.6 out of 5 stars\"><i class=\"a-icon a-icon-star-small a-star-small-4-5 aok-align-top\"><span class=\"a-icon-alt\">4.6 out of 5 stars</span></i> <span class=\"a-size-small\">141,655</span></a></div>\n",
            "141,655\n",
            "<div class=\"a-icon-row\"><a class=\"a-link-normal\" href=\"/product-reviews/9387944891/ref=zg_bs_g_books_cr_sccl_8/262-1848917-0927500\" title=\"4.5 out of 5 stars\"><i class=\"a-icon a-icon-star-small a-star-small-4-5 aok-align-top\"><span class=\"a-icon-alt\">4.5 out of 5 stars</span></i> <span class=\"a-size-small\">30,211</span></a></div>\n",
            "30,211\n",
            "<div class=\"a-icon-row\"><a class=\"a-link-normal\" href=\"/product-reviews/9355012322/ref=zg_bs_g_books_cr_sccl_9/262-1848917-0927500\" title=\"4.3 out of 5 stars\"><i class=\"a-icon a-icon-star-small a-star-small-4-5 aok-align-top\"><span class=\"a-icon-alt\">4.3 out of 5 stars</span></i> <span class=\"a-size-small\">1,776</span></a></div>\n",
            "1,776\n",
            "<div class=\"a-icon-row\"><a class=\"a-link-normal\" href=\"/product-reviews/0751527378/ref=zg_bs_g_books_cr_sccl_10/262-1848917-0927500\" title=\"4.6 out of 5 stars\"><i class=\"a-icon a-icon-star-small a-star-small-4-5 aok-align-top\"><span class=\"a-icon-alt\">4.6 out of 5 stars</span></i> <span class=\"a-size-small\">23,558</span></a></div>\n",
            "23,558\n",
            "<div class=\"a-icon-row\"><a class=\"a-link-normal\" href=\"/product-reviews/B0CK3Y94R9/ref=zg_bs_g_books_cr_sccl_11/262-1848917-0927500\" title=\"5.0 out of 5 stars\"><i class=\"a-icon a-icon-star-small a-star-small-5 aok-align-top\"><span class=\"a-icon-alt\">5.0 out of 5 stars</span></i> <span class=\"a-size-small\">1</span></a></div>\n",
            "1\n",
            "<div class=\"a-icon-row\"><a class=\"a-link-normal\" href=\"/product-reviews/B0CBQ9VM1V/ref=zg_bs_g_books_cr_sccl_12/262-1848917-0927500\" title=\"4.7 out of 5 stars\"><i class=\"a-icon a-icon-star-small a-star-small-4-5 aok-align-top\"><span class=\"a-icon-alt\">4.7 out of 5 stars</span></i> <span class=\"a-size-small\">59</span></a></div>\n",
            "59\n",
            "<div class=\"a-icon-row\"><a class=\"a-link-normal\" href=\"/product-reviews/8131958248/ref=zg_bs_g_books_cr_sccl_13/262-1848917-0927500\" title=\"4.6 out of 5 stars\"><i class=\"a-icon a-icon-star-small a-star-small-4-5 aok-align-top\"><span class=\"a-icon-alt\">4.6 out of 5 stars</span></i> <span class=\"a-size-small\">672</span></a></div>\n",
            "672\n",
            "<div class=\"a-icon-row\"><a class=\"a-link-normal\" href=\"/product-reviews/9551753437/ref=zg_bs_g_books_cr_sccl_14/262-1848917-0927500\" title=\"3.9 out of 5 stars\"><i class=\"a-icon a-icon-star-small a-star-small-4 aok-align-top\"><span class=\"a-icon-alt\">3.9 out of 5 stars</span></i> <span class=\"a-size-small\">833</span></a></div>\n",
            "833\n",
            "<div class=\"a-icon-row\"><a class=\"a-link-normal\" href=\"/product-reviews/9388810740/ref=zg_bs_g_books_cr_sccl_15/262-1848917-0927500\" title=\"4.5 out of 5 stars\"><i class=\"a-icon a-icon-star-small a-star-small-4-5 aok-align-top\"><span class=\"a-icon-alt\">4.5 out of 5 stars</span></i> <span class=\"a-size-small\">1,560</span></a></div>\n",
            "1,560\n",
            "<div class=\"a-icon-row\"><a class=\"a-link-normal\" href=\"/product-reviews/8186775218/ref=zg_bs_g_books_cr_sccl_16/262-1848917-0927500\" title=\"4.5 out of 5 stars\"><i class=\"a-icon a-icon-star-small a-star-small-4-5 aok-align-top\"><span class=\"a-icon-alt\">4.5 out of 5 stars</span></i> <span class=\"a-size-small\">15,570</span></a></div>\n",
            "15,570\n",
            "<div class=\"a-icon-row\"><a class=\"a-link-normal\" href=\"/product-reviews/9355991479/ref=zg_bs_g_books_cr_sccl_17/262-1848917-0927500\" title=\"3.9 out of 5 stars\"><i class=\"a-icon a-icon-star-small a-star-small-4 aok-align-top\"><span class=\"a-icon-alt\">3.9 out of 5 stars</span></i> <span class=\"a-size-small\">704</span></a></div>\n",
            "704\n",
            "<div class=\"a-icon-row\"><a class=\"a-link-normal\" href=\"/product-reviews/9390166845/ref=zg_bs_g_books_cr_sccl_18/262-1848917-0927500\" title=\"4.3 out of 5 stars\"><i class=\"a-icon a-icon-star-small a-star-small-4-5 aok-align-top\"><span class=\"a-icon-alt\">4.3 out of 5 stars</span></i> <span class=\"a-size-small\">2,882</span></a></div>\n",
            "2,882\n",
            "<div class=\"a-icon-row\"><a class=\"a-link-normal\" href=\"/product-reviews/0143455699/ref=zg_bs_g_books_cr_sccl_19/262-1848917-0927500\" title=\"4.4 out of 5 stars\"><i class=\"a-icon a-icon-star-small a-star-small-4-5 aok-align-top\"><span class=\"a-icon-alt\">4.4 out of 5 stars</span></i> <span class=\"a-size-small\">2,664</span></a></div>\n",
            "2,664\n",
            "<div class=\"a-icon-row\"><a class=\"a-link-normal\" href=\"/product-reviews/B09LV1KHKV/ref=zg_bs_g_books_cr_sccl_20/262-1848917-0927500\" title=\"4.4 out of 5 stars\"><i class=\"a-icon a-icon-star-small a-star-small-4-5 aok-align-top\"><span class=\"a-icon-alt\">4.4 out of 5 stars</span></i> <span class=\"a-size-small\">1,809</span></a></div>\n",
            "1,809\n",
            "<div class=\"a-icon-row\"><a class=\"a-link-normal\" href=\"/product-reviews/935440524X/ref=zg_bs_g_books_cr_sccl_21/262-1848917-0927500\" title=\"4.7 out of 5 stars\"><i class=\"a-icon a-icon-star-small a-star-small-4-5 aok-align-top\"><span class=\"a-icon-alt\">4.7 out of 5 stars</span></i> <span class=\"a-size-small\">339</span></a></div>\n",
            "339\n",
            "<div class=\"a-icon-row\"><a class=\"a-link-normal\" href=\"/product-reviews/9389432642/ref=zg_bs_g_books_cr_sccl_22/262-1848917-0927500\" title=\"4.4 out of 5 stars\"><i class=\"a-icon a-icon-star-small a-star-small-4-5 aok-align-top\"><span class=\"a-icon-alt\">4.4 out of 5 stars</span></i> <span class=\"a-size-small\">4,037</span></a></div>\n",
            "4,037\n",
            "<div class=\"a-icon-row\"><a class=\"a-link-normal\" href=\"/product-reviews/0143452673/ref=zg_bs_g_books_cr_sccl_23/262-1848917-0927500\" title=\"4.7 out of 5 stars\"><i class=\"a-icon a-icon-star-small a-star-small-4-5 aok-align-top\"><span class=\"a-icon-alt\">4.7 out of 5 stars</span></i> <span class=\"a-size-small\">14,690</span></a></div>\n",
            "14,690\n",
            "<div class=\"a-icon-row\"><a class=\"a-link-normal\" href=\"/product-reviews/9355555059/ref=zg_bs_g_books_cr_sccl_24/262-1848917-0927500\" title=\"4.5 out of 5 stars\"><i class=\"a-icon a-icon-star-small a-star-small-4-5 aok-align-top\"><span class=\"a-icon-alt\">4.5 out of 5 stars</span></i> <span class=\"a-size-small\">694</span></a></div>\n",
            "694\n",
            "<div class=\"a-icon-row\"><a class=\"a-link-normal\" href=\"/product-reviews/9358896507/ref=zg_bs_g_books_cr_sccl_25/262-1848917-0927500\" title=\"4.2 out of 5 stars\"><i class=\"a-icon a-icon-star-small a-star-small-4 aok-align-top\"><span class=\"a-icon-alt\">4.2 out of 5 stars</span></i> <span class=\"a-size-small\">31</span></a></div>\n",
            "31\n",
            "<div class=\"a-icon-row\"><a class=\"a-link-normal\" href=\"/product-reviews/8175993669/ref=zg_bs_g_books_cr_sccl_26/262-1848917-0927500\" title=\"4.4 out of 5 stars\"><i class=\"a-icon a-icon-star-small a-star-small-4-5 aok-align-top\"><span class=\"a-icon-alt\">4.4 out of 5 stars</span></i> <span class=\"a-size-small\">13,598</span></a></div>\n",
            "13,598\n",
            "<div class=\"a-icon-row\"><a class=\"a-link-normal\" href=\"/product-reviews/9387779777/ref=zg_bs_g_books_cr_sccl_27/262-1848917-0927500\" title=\"4.3 out of 5 stars\"><i class=\"a-icon a-icon-star-small a-star-small-4-5 aok-align-top\"><span class=\"a-icon-alt\">4.3 out of 5 stars</span></i> <span class=\"a-size-small\">11,863</span></a></div>\n",
            "11,863\n",
            "<div class=\"a-icon-row\"><a class=\"a-link-normal\" href=\"/product-reviews/9356349010/ref=zg_bs_g_books_cr_sccl_28/262-1848917-0927500\" title=\"4.4 out of 5 stars\"><i class=\"a-icon a-icon-star-small a-star-small-4-5 aok-align-top\"><span class=\"a-icon-alt\">4.4 out of 5 stars</span></i> <span class=\"a-size-small\">510</span></a></div>\n",
            "510\n",
            "None\n",
            "<div class=\"a-icon-row\"><a class=\"a-link-normal\" href=\"/product-reviews/9388369882/ref=zg_bs_g_books_cr_sccl_30/262-1848917-0927500\" title=\"4.6 out of 5 stars\"><i class=\"a-icon a-icon-star-small a-star-small-4-5 aok-align-top\"><span class=\"a-icon-alt\">4.6 out of 5 stars</span></i> <span class=\"a-size-small\">14,399</span></a></div>\n",
            "14,399\n"
          ]
        }
      ],
      "source": [
        "\n",
        "import pandas as pd\n",
        "import numpy as np\n",
        "import matplotlib.pyplot as plt\n",
        "import seaborn as sns\n",
        "import re\n",
        "import time\n",
        "from datetime import datetime\n",
        "import matplotlib.dates as mdates\n",
        "import matplotlib.ticker as ticker\n",
        "from urllib.request import urlopen\n",
        "from bs4 import BeautifulSoup\n",
        "import requests\n",
        "\n",
        "headers = {\"User-Agent\":\"Mozilla/5.0 (Windows NT 10.0; Win64; x64; rv:66.0) Gecko/20100101 Firefox/66.0\", \"Accept-Encoding\":\"gzip, deflate\", \"Accept\":\"text/html,application/xhtml+xml,application/xml;q=0.9,*/*;q=0.8\", \"DNT\":\"1\",\"Connection\":\"close\", \"Upgrade-Insecure-Requests\":\"1\"}\n",
        "\n",
        "r = requests.get('https://www.amazon.in/gp/bestsellers/books/ref=zg_bs_pg_'+str(2)+'?ie=UTF8&pg='+str(2), headers=headers)#, proxies=proxies)\n",
        "\n",
        "content = r.content\n",
        "soup = BeautifulSoup(content,'html5lib')\n",
        "alls = []\n",
        "for d in soup.findAll('div', attrs={'class':'p13n-sc-uncoverable-faceout'}): #find all the instances of a tag on a page\n",
        "\n",
        "\n",
        "        #print(d)\n",
        "        name = d.find('div', attrs={'class':'a-section a-spacing-mini _cDEzb_noop_3Xbw5'})\n",
        "        #print(name)\n",
        "        n = name.find_all('img', alt=True) # find_all returns a list\n",
        "        #print(n[0]['alt'])\n",
        "        #author = d.find('a', attrs={'class':'a-size-small a-link-child'})\n",
        "        #print(author.text)\n",
        "        #rating = d.find('span', attrs={'class':'a-icon-alt'})\n",
        "        #print(rating.text)\n",
        "        #users_rated = d.find('span', attrs={'class':'a-size-small'})\n",
        "        users_rated = d.find('div', attrs={'class':'a-icon-row'})\n",
        "        print(users_rated)\n",
        "        if(users_rated is not None ) :\n",
        "                users_rated=users_rated.find('span', attrs={'class':'a-size-small'})\n",
        "                print(users_rated.text)\n",
        "        #price = d.find('span', attrs={'class':'_cDEzb_p13n-sc-price_3mJ9Z'})\n",
        "        #print(price.text)\n",
        "\n",
        "\n"
      ]
    },
    {
      "cell_type": "markdown",
      "metadata": {
        "id": "9f4stPMKCU-X"
      },
      "source": [
        "\n",
        "\n",
        "le code ci-dessous remplira les fonctions suivantes:\n",
        "\n",
        "    Appelez la fonction get_data à l'intérieur d'une boucle for,\n",
        "    La boucle for parcourra cette fonction à partir de 1 jusqu'au nombre de pages + 1.\n",
        "    Étant donné que la sortie sera une liste imbriquée, vous devez d'abord aplatir la liste, puis la transmettre au DataFrame.\n",
        "    Enfin, enregistrez le DataFrame en tant que fichier CSV.\n",
        "\n",
        "\n"
      ]
    },
    {
      "cell_type": "code",
      "execution_count": null,
      "metadata": {
        "id": "0FpKMaXxcMEA"
      },
      "outputs": [],
      "source": [
        "#La fonction range () renvoie une séquence de nombres, commençant par 0 par défaut et incrémentée de 1 (par défaut),\n",
        "#et s'arrête avant un nombre spécifié.\n",
        "results = []\n",
        "for i in range(1, no_pages+1):\n",
        "    results.append(get_data(i))\n",
        "flatten = lambda l: [item for sublist in l for item in sublist]\n",
        "df = pd.DataFrame(flatten(results),columns=['Book Name','Author','Rating','Customers_Rated', 'Price'])\n",
        "df.to_csv('amazon_products2.csv', index=False, encoding='utf-8')"
      ]
    },
    {
      "cell_type": "markdown",
      "metadata": {
        "id": "lwpV_pRuz5Ek"
      },
      "source": [
        "\n",
        "**Lecture du fichier CSV**\n",
        "\n",
        "Maintenant, chargeons le fichier CSV que vous avez créé et enregistrez-le dans la cellule ci-dessus. Encore une fois, il s'agit d'une étape facultative; vous pouvez même utiliser la DataFrame df directement et ignorer l'étape ci-dessous.\n"
      ]
    },
    {
      "cell_type": "code",
      "execution_count": null,
      "metadata": {
        "colab": {
          "base_uri": "https://localhost:8080/"
        },
        "id": "OJVhLnOEz5Y_",
        "outputId": "dcd84cc7-8177-4d6f-c687-afc594a7f7b8"
      },
      "outputs": [
        {
          "name": "stdout",
          "output_type": "stream",
          "text": [
            "(60, 5)\n",
            "                                           Book Name  \\\n",
            "0  BRAHMASTRA Complete Maths Multicolored Formula...   \n",
            "1  PW Physics Med Easy Notes | Notes, Formulas, M...   \n",
            "2                            The Psychology Of Money   \n",
            "3  Atomic Habits: the life-changing million-copy ...   \n",
            "4                                             Ikigai   \n",
            "5  Do It Today: Overcome procrastination, improve...   \n",
            "\n",
            "                     Author              Rating Customers_Rated    Price  \n",
            "0         Aditya Ranjan Sir  4.9 out of 5 stars              55  ₹180.00  \n",
            "1  Dr. Manish Raj (MR. Sir)  4.9 out of 5 stars           1,021  ₹421.00  \n",
            "2             Morgan Housel  4.6 out of 5 stars          55,247  ₹230.00  \n",
            "3               James Clear  4.6 out of 5 stars          85,271  ₹467.00  \n",
            "4         Francesc Miralles  4.6 out of 5 stars          50,938  ₹266.00  \n",
            "5             Darius Foroux  4.4 out of 5 stars           7,643  ₹125.00  \n"
          ]
        }
      ],
      "source": [
        "df = pd.read_csv(\"amazon_products2.csv\")\n",
        "\n",
        "print(df.shape)\n",
        "\n",
        "print(df.head(6))"
      ]
    },
    {
      "cell_type": "markdown",
      "metadata": {
        "id": "jO1lH1sB0MLu"
      },
      "source": [
        "Faisons un prétraitement sur les colonnes ratings, customers_rated, and price.\n",
        "\n",
        "Puisque vous savez que les notes sont sur 5, vous ne pouvez conserver que la note et en retirer la partie supplémentaire.\n",
        "Dans la colonne customers_rated, supprimez la virgule.\n",
        "Dans la colonne des prix, supprimez le symbole de la roupie, la virgule et divisez-le par le point.\n",
        "Enfin, convertissez les trois colonnes en entier ou en flottant"
      ]
    },
    {
      "cell_type": "code",
      "execution_count": null,
      "metadata": {
        "colab": {
          "base_uri": "https://localhost:8080/",
          "height": 206
        },
        "id": "X8w6wgcU0R7X",
        "outputId": "83c5ba17-0eb6-41f4-bf65-f903b55ee84d"
      },
      "outputs": [
        {
          "data": {
            "text/html": [
              "\n",
              "  <div id=\"df-b8f9bbf1-402d-47d7-8825-43585699f883\" class=\"colab-df-container\">\n",
              "    <div>\n",
              "<style scoped>\n",
              "    .dataframe tbody tr th:only-of-type {\n",
              "        vertical-align: middle;\n",
              "    }\n",
              "\n",
              "    .dataframe tbody tr th {\n",
              "        vertical-align: top;\n",
              "    }\n",
              "\n",
              "    .dataframe thead th {\n",
              "        text-align: right;\n",
              "    }\n",
              "</style>\n",
              "<table border=\"1\" class=\"dataframe\">\n",
              "  <thead>\n",
              "    <tr style=\"text-align: right;\">\n",
              "      <th></th>\n",
              "      <th>Book Name</th>\n",
              "      <th>Author</th>\n",
              "      <th>Rating</th>\n",
              "      <th>Customers_Rated</th>\n",
              "      <th>Price</th>\n",
              "    </tr>\n",
              "  </thead>\n",
              "  <tbody>\n",
              "    <tr>\n",
              "      <th>0</th>\n",
              "      <td>BRAHMASTRA Complete Maths Multicolored Formula...</td>\n",
              "      <td>Aditya Ranjan Sir</td>\n",
              "      <td>4.9</td>\n",
              "      <td>55</td>\n",
              "      <td>180</td>\n",
              "    </tr>\n",
              "    <tr>\n",
              "      <th>1</th>\n",
              "      <td>PW Physics Med Easy Notes | Notes, Formulas, M...</td>\n",
              "      <td>Dr. Manish Raj (MR. Sir)</td>\n",
              "      <td>4.9</td>\n",
              "      <td>1021</td>\n",
              "      <td>421</td>\n",
              "    </tr>\n",
              "    <tr>\n",
              "      <th>2</th>\n",
              "      <td>The Psychology Of Money</td>\n",
              "      <td>Morgan Housel</td>\n",
              "      <td>4.6</td>\n",
              "      <td>55247</td>\n",
              "      <td>230</td>\n",
              "    </tr>\n",
              "    <tr>\n",
              "      <th>3</th>\n",
              "      <td>Atomic Habits: the life-changing million-copy ...</td>\n",
              "      <td>James Clear</td>\n",
              "      <td>4.6</td>\n",
              "      <td>85271</td>\n",
              "      <td>467</td>\n",
              "    </tr>\n",
              "    <tr>\n",
              "      <th>4</th>\n",
              "      <td>Ikigai</td>\n",
              "      <td>Francesc Miralles</td>\n",
              "      <td>4.6</td>\n",
              "      <td>50938</td>\n",
              "      <td>266</td>\n",
              "    </tr>\n",
              "  </tbody>\n",
              "</table>\n",
              "</div>\n",
              "    <div class=\"colab-df-buttons\">\n",
              "\n",
              "  <div class=\"colab-df-container\">\n",
              "    <button class=\"colab-df-convert\" onclick=\"convertToInteractive('df-b8f9bbf1-402d-47d7-8825-43585699f883')\"\n",
              "            title=\"Convert this dataframe to an interactive table.\"\n",
              "            style=\"display:none;\">\n",
              "\n",
              "  <svg xmlns=\"http://www.w3.org/2000/svg\" height=\"24px\" viewBox=\"0 -960 960 960\">\n",
              "    <path d=\"M120-120v-720h720v720H120Zm60-500h600v-160H180v160Zm220 220h160v-160H400v160Zm0 220h160v-160H400v160ZM180-400h160v-160H180v160Zm440 0h160v-160H620v160ZM180-180h160v-160H180v160Zm440 0h160v-160H620v160Z\"/>\n",
              "  </svg>\n",
              "    </button>\n",
              "\n",
              "  <style>\n",
              "    .colab-df-container {\n",
              "      display:flex;\n",
              "      gap: 12px;\n",
              "    }\n",
              "\n",
              "    .colab-df-convert {\n",
              "      background-color: #E8F0FE;\n",
              "      border: none;\n",
              "      border-radius: 50%;\n",
              "      cursor: pointer;\n",
              "      display: none;\n",
              "      fill: #1967D2;\n",
              "      height: 32px;\n",
              "      padding: 0 0 0 0;\n",
              "      width: 32px;\n",
              "    }\n",
              "\n",
              "    .colab-df-convert:hover {\n",
              "      background-color: #E2EBFA;\n",
              "      box-shadow: 0px 1px 2px rgba(60, 64, 67, 0.3), 0px 1px 3px 1px rgba(60, 64, 67, 0.15);\n",
              "      fill: #174EA6;\n",
              "    }\n",
              "\n",
              "    .colab-df-buttons div {\n",
              "      margin-bottom: 4px;\n",
              "    }\n",
              "\n",
              "    [theme=dark] .colab-df-convert {\n",
              "      background-color: #3B4455;\n",
              "      fill: #D2E3FC;\n",
              "    }\n",
              "\n",
              "    [theme=dark] .colab-df-convert:hover {\n",
              "      background-color: #434B5C;\n",
              "      box-shadow: 0px 1px 3px 1px rgba(0, 0, 0, 0.15);\n",
              "      filter: drop-shadow(0px 1px 2px rgba(0, 0, 0, 0.3));\n",
              "      fill: #FFFFFF;\n",
              "    }\n",
              "  </style>\n",
              "\n",
              "    <script>\n",
              "      const buttonEl =\n",
              "        document.querySelector('#df-b8f9bbf1-402d-47d7-8825-43585699f883 button.colab-df-convert');\n",
              "      buttonEl.style.display =\n",
              "        google.colab.kernel.accessAllowed ? 'block' : 'none';\n",
              "\n",
              "      async function convertToInteractive(key) {\n",
              "        const element = document.querySelector('#df-b8f9bbf1-402d-47d7-8825-43585699f883');\n",
              "        const dataTable =\n",
              "          await google.colab.kernel.invokeFunction('convertToInteractive',\n",
              "                                                    [key], {});\n",
              "        if (!dataTable) return;\n",
              "\n",
              "        const docLinkHtml = 'Like what you see? Visit the ' +\n",
              "          '<a target=\"_blank\" href=https://colab.research.google.com/notebooks/data_table.ipynb>data table notebook</a>'\n",
              "          + ' to learn more about interactive tables.';\n",
              "        element.innerHTML = '';\n",
              "        dataTable['output_type'] = 'display_data';\n",
              "        await google.colab.output.renderOutput(dataTable, element);\n",
              "        const docLink = document.createElement('div');\n",
              "        docLink.innerHTML = docLinkHtml;\n",
              "        element.appendChild(docLink);\n",
              "      }\n",
              "    </script>\n",
              "  </div>\n",
              "\n",
              "\n",
              "<div id=\"df-37597993-5861-4eb0-a781-407f646696a9\">\n",
              "  <button class=\"colab-df-quickchart\" onclick=\"quickchart('df-37597993-5861-4eb0-a781-407f646696a9')\"\n",
              "            title=\"Suggest charts.\"\n",
              "            style=\"display:none;\">\n",
              "\n",
              "<svg xmlns=\"http://www.w3.org/2000/svg\" height=\"24px\"viewBox=\"0 0 24 24\"\n",
              "     width=\"24px\">\n",
              "    <g>\n",
              "        <path d=\"M19 3H5c-1.1 0-2 .9-2 2v14c0 1.1.9 2 2 2h14c1.1 0 2-.9 2-2V5c0-1.1-.9-2-2-2zM9 17H7v-7h2v7zm4 0h-2V7h2v10zm4 0h-2v-4h2v4z\"/>\n",
              "    </g>\n",
              "</svg>\n",
              "  </button>\n",
              "\n",
              "<style>\n",
              "  .colab-df-quickchart {\n",
              "      --bg-color: #E8F0FE;\n",
              "      --fill-color: #1967D2;\n",
              "      --hover-bg-color: #E2EBFA;\n",
              "      --hover-fill-color: #174EA6;\n",
              "      --disabled-fill-color: #AAA;\n",
              "      --disabled-bg-color: #DDD;\n",
              "  }\n",
              "\n",
              "  [theme=dark] .colab-df-quickchart {\n",
              "      --bg-color: #3B4455;\n",
              "      --fill-color: #D2E3FC;\n",
              "      --hover-bg-color: #434B5C;\n",
              "      --hover-fill-color: #FFFFFF;\n",
              "      --disabled-bg-color: #3B4455;\n",
              "      --disabled-fill-color: #666;\n",
              "  }\n",
              "\n",
              "  .colab-df-quickchart {\n",
              "    background-color: var(--bg-color);\n",
              "    border: none;\n",
              "    border-radius: 50%;\n",
              "    cursor: pointer;\n",
              "    display: none;\n",
              "    fill: var(--fill-color);\n",
              "    height: 32px;\n",
              "    padding: 0;\n",
              "    width: 32px;\n",
              "  }\n",
              "\n",
              "  .colab-df-quickchart:hover {\n",
              "    background-color: var(--hover-bg-color);\n",
              "    box-shadow: 0 1px 2px rgba(60, 64, 67, 0.3), 0 1px 3px 1px rgba(60, 64, 67, 0.15);\n",
              "    fill: var(--button-hover-fill-color);\n",
              "  }\n",
              "\n",
              "  .colab-df-quickchart-complete:disabled,\n",
              "  .colab-df-quickchart-complete:disabled:hover {\n",
              "    background-color: var(--disabled-bg-color);\n",
              "    fill: var(--disabled-fill-color);\n",
              "    box-shadow: none;\n",
              "  }\n",
              "\n",
              "  .colab-df-spinner {\n",
              "    border: 2px solid var(--fill-color);\n",
              "    border-color: transparent;\n",
              "    border-bottom-color: var(--fill-color);\n",
              "    animation:\n",
              "      spin 1s steps(1) infinite;\n",
              "  }\n",
              "\n",
              "  @keyframes spin {\n",
              "    0% {\n",
              "      border-color: transparent;\n",
              "      border-bottom-color: var(--fill-color);\n",
              "      border-left-color: var(--fill-color);\n",
              "    }\n",
              "    20% {\n",
              "      border-color: transparent;\n",
              "      border-left-color: var(--fill-color);\n",
              "      border-top-color: var(--fill-color);\n",
              "    }\n",
              "    30% {\n",
              "      border-color: transparent;\n",
              "      border-left-color: var(--fill-color);\n",
              "      border-top-color: var(--fill-color);\n",
              "      border-right-color: var(--fill-color);\n",
              "    }\n",
              "    40% {\n",
              "      border-color: transparent;\n",
              "      border-right-color: var(--fill-color);\n",
              "      border-top-color: var(--fill-color);\n",
              "    }\n",
              "    60% {\n",
              "      border-color: transparent;\n",
              "      border-right-color: var(--fill-color);\n",
              "    }\n",
              "    80% {\n",
              "      border-color: transparent;\n",
              "      border-right-color: var(--fill-color);\n",
              "      border-bottom-color: var(--fill-color);\n",
              "    }\n",
              "    90% {\n",
              "      border-color: transparent;\n",
              "      border-bottom-color: var(--fill-color);\n",
              "    }\n",
              "  }\n",
              "</style>\n",
              "\n",
              "  <script>\n",
              "    async function quickchart(key) {\n",
              "      const quickchartButtonEl =\n",
              "        document.querySelector('#' + key + ' button');\n",
              "      quickchartButtonEl.disabled = true;  // To prevent multiple clicks.\n",
              "      quickchartButtonEl.classList.add('colab-df-spinner');\n",
              "      try {\n",
              "        const charts = await google.colab.kernel.invokeFunction(\n",
              "            'suggestCharts', [key], {});\n",
              "      } catch (error) {\n",
              "        console.error('Error during call to suggestCharts:', error);\n",
              "      }\n",
              "      quickchartButtonEl.classList.remove('colab-df-spinner');\n",
              "      quickchartButtonEl.classList.add('colab-df-quickchart-complete');\n",
              "    }\n",
              "    (() => {\n",
              "      let quickchartButtonEl =\n",
              "        document.querySelector('#df-37597993-5861-4eb0-a781-407f646696a9 button');\n",
              "      quickchartButtonEl.style.display =\n",
              "        google.colab.kernel.accessAllowed ? 'block' : 'none';\n",
              "    })();\n",
              "  </script>\n",
              "</div>\n",
              "    </div>\n",
              "  </div>\n"
            ],
            "text/plain": [
              "                                           Book Name  \\\n",
              "0  BRAHMASTRA Complete Maths Multicolored Formula...   \n",
              "1  PW Physics Med Easy Notes | Notes, Formulas, M...   \n",
              "2                            The Psychology Of Money   \n",
              "3  Atomic Habits: the life-changing million-copy ...   \n",
              "4                                             Ikigai   \n",
              "\n",
              "                     Author  Rating  Customers_Rated  Price  \n",
              "0         Aditya Ranjan Sir     4.9               55    180  \n",
              "1  Dr. Manish Raj (MR. Sir)     4.9             1021    421  \n",
              "2             Morgan Housel     4.6            55247    230  \n",
              "3               James Clear     4.6            85271    467  \n",
              "4         Francesc Miralles     4.6            50938    266  "
            ]
          },
          "execution_count": 50,
          "metadata": {},
          "output_type": "execute_result"
        }
      ],
      "source": [
        "df['Rating'] = df['Rating'].apply(lambda x: x.split()[0])\n",
        "\n",
        "df['Rating'] = pd.to_numeric(df['Rating'])\n",
        "\n",
        "df[\"Price\"] = df[\"Price\"].str.replace('₹', '')\n",
        "\n",
        "df[\"Price\"] = df[\"Price\"].str.replace(',', '')\n",
        "\n",
        "df['Price'] = df['Price'].apply(lambda x: x.split('.')[0])\n",
        "\n",
        "df['Price'] = df['Price'].astype(int)\n",
        "\n",
        "df[\"Customers_Rated\"] = df[\"Customers_Rated\"].str.replace(',', '')\n",
        "\n",
        "df['Customers_Rated'] = pd.to_numeric(df['Customers_Rated'], errors='ignore')\n",
        "\n",
        "df.head()"
      ]
    },
    {
      "cell_type": "code",
      "execution_count": null,
      "metadata": {
        "colab": {
          "base_uri": "https://localhost:8080/"
        },
        "id": "ugo1lqiM0ZUh",
        "outputId": "fc7c52d5-af51-4e6d-cda8-a50e6627389f"
      },
      "outputs": [
        {
          "data": {
            "text/plain": [
              "Book Name           object\n",
              "Author              object\n",
              "Rating             float64\n",
              "Customers_Rated      int64\n",
              "Price                int64\n",
              "dtype: object"
            ]
          },
          "execution_count": 51,
          "metadata": {},
          "output_type": "execute_result"
        }
      ],
      "source": [
        "df.dtypes"
      ]
    },
    {
      "cell_type": "markdown",
      "metadata": {
        "id": "3lVmL2Du0gqh"
      },
      "source": [
        "Remplacez les valeurs nulles du DataFrame par NaN."
      ]
    },
    {
      "cell_type": "code",
      "execution_count": null,
      "metadata": {
        "id": "e6uJrHab0chl"
      },
      "outputs": [],
      "source": [
        "df.replace(str(0), np.nan, inplace=True)\n",
        "df.replace(0, np.nan, inplace=True)\n"
      ]
    },
    {
      "cell_type": "code",
      "execution_count": null,
      "metadata": {
        "colab": {
          "base_uri": "https://localhost:8080/"
        },
        "id": "Owx1Xvoz0lFl",
        "outputId": "31fd2149-9f2f-4448-f52f-d545e71039c0"
      },
      "outputs": [
        {
          "data": {
            "text/plain": [
              "60"
            ]
          },
          "execution_count": 53,
          "metadata": {},
          "output_type": "execute_result"
        }
      ],
      "source": [
        "\n",
        "\n",
        "#Comptage du nombre de NaN dans le DataFrame\n",
        "\n",
        "len(df)\n",
        "\n"
      ]
    },
    {
      "cell_type": "code",
      "execution_count": null,
      "metadata": {
        "colab": {
          "base_uri": "https://localhost:8080/"
        },
        "id": "rClpXo_C0zVi",
        "outputId": "3a097179-2f97-4b7a-926a-8109a2a010ec"
      },
      "outputs": [
        {
          "data": {
            "text/plain": [
              "Book Name          58\n",
              "Author             58\n",
              "Rating             58\n",
              "Customers_Rated    58\n",
              "Price              58\n",
              "dtype: int64"
            ]
          },
          "execution_count": 57,
          "metadata": {},
          "output_type": "execute_result"
        }
      ],
      "source": [
        "df.count()"
      ]
    },
    {
      "cell_type": "code",
      "execution_count": null,
      "metadata": {
        "colab": {
          "base_uri": "https://localhost:8080/"
        },
        "id": "uWLBH-5S04ry",
        "outputId": "c82b4a70-df6b-40f2-fd82-2823146345e4"
      },
      "outputs": [
        {
          "name": "stdout",
          "output_type": "stream",
          "text": [
            "Book Name          0\n",
            "Author             1\n",
            "Rating             0\n",
            "Customers_Rated    1\n",
            "Price              0\n",
            "dtype: int64\n"
          ]
        }
      ],
      "source": [
        "#The len() function returns the number of items in an objec\n",
        "count_nan = len(df) - df.count()\n",
        "print(count_nan)"
      ]
    },
    {
      "cell_type": "markdown",
      "metadata": {
        "id": "KqilOxPO1EKb"
      },
      "source": [
        "\n",
        "\n",
        "De la sortie ci-dessus, vous pouvez observer qu'il y a un total de six livres qui n'ont pas de nom d'auteur, tandis qu'un livre n'a pas de prix associé. Ces informations sont cruciales pour un auteur qui souhaite vendre ses livres et ne doit pas négliger de mettre de telles informations.\n",
        "\n",
        "Laissons tomber ces NaN.\n",
        "\n"
      ]
    },
    {
      "cell_type": "code",
      "execution_count": null,
      "metadata": {
        "id": "zSvkXrkT1HM9"
      },
      "outputs": [],
      "source": [
        "df = df.dropna()"
      ]
    },
    {
      "cell_type": "markdown",
      "metadata": {
        "id": "zqKeR_pF1NAI"
      },
      "source": [
        "\n",
        "**Auteurs Livre le plus cher**\n",
        "\n",
        "Voyons quels auteurs ont le livre le plus cher. Vous visualiserez les résultats pour ces 15 meilleurs auteurs."
      ]
    },
    {
      "cell_type": "code",
      "execution_count": null,
      "metadata": {
        "colab": {
          "base_uri": "https://localhost:8080/"
        },
        "id": "zypM0ZDl0zth",
        "outputId": "a1f4c1f4-840d-43ff-ff99-c2aa98847f61"
      },
      "outputs": [
        {
          "name": "stdout",
          "output_type": "stream",
          "text": [
            "                                            Book Name  \\\n",
            "54  Arihant CBSE Sample Question Papers Science, S...   \n",
            "59  My First Learning Library Box Set [ Includes 2...   \n",
            "34  MTG 36 Years NEET Previous Year Solved Questio...   \n",
            "25  Indian Polity for UPSC (English| 7th Edition) ...   \n",
            "27                               THE 48 LAWS OF POWER   \n",
            "38  Quantitative Aptitude for Competitive Examinat...   \n",
            "40  Best Books Series Set of 3 Hidden Hindu Triolo...   \n",
            "57  Oswaal CBSE Class 10 Science Question Bank (Fo...   \n",
            "20            SSC GD (COMBO) MATH +REASONING+GK+HINDI   \n",
            "3   Atomic Habits: the life-changing million-copy ...   \n",
            "8                                Diary of a Wimpy Kid   \n",
            "1   PW Physics Med Easy Notes | Notes, Formulas, M...   \n",
            "29  PW Chemistry Med Easy | Notes, Formulas, Tips ...   \n",
            "9   My First Library: Boxset of 10 Board Books for...   \n",
            "15                               India that is Bharat   \n",
            "13  Rich Dad Poor Dad: 25th Anniversary Edit: (25t...   \n",
            "26        Colouring Books for Kids (Pack of 12 Books)   \n",
            "17  NTA UGC NET /SET/JRF Paper 1, Teaching and Res...   \n",
            "10  World's Greatest Pack for Personal Growth and ...   \n",
            "31  Courage To Be Disliked, The: How to free yours...   \n",
            "\n",
            "                                               Author  Rating  \\\n",
            "54  Rudraksh Tripathi Punya Pratap, Pooja Yadav, A...     4.2   \n",
            "59                                 Wonder House Books     4.6   \n",
            "34                                MTG Editorial Board     4.3   \n",
            "25                                       M Laxmikanth     4.6   \n",
            "27                                      Robert Greene     4.6   \n",
            "38                                      R. S Aggarwal     4.3   \n",
            "40                                       Akshat Gupta     5.0   \n",
            "57                             Oswaal Editorial Board     4.4   \n",
            "20                                        Ankit Bhati     4.4   \n",
            "3                                         James Clear     4.6   \n",
            "8                                         Jeff Kinney     4.9   \n",
            "1                            Dr. Manish Raj (MR. Sir)     4.9   \n",
            "29                                    Pankaj Sijairya     4.6   \n",
            "9                                  Wonder House Books     4.5   \n",
            "15                                       J Sai Deepak     4.8   \n",
            "13                                 Robert T. Kiyosaki     4.5   \n",
            "26                                 Wonder House Books     4.5   \n",
            "17                                         KVS Madaan     4.4   \n",
            "10                                      Dale Carnegie     4.5   \n",
            "31                   Ichiro Kishimi and Fumitake Koga     4.5   \n",
            "\n",
            "    Customers_Rated  Price  \n",
            "54             31.0    808  \n",
            "59          14399.0    799  \n",
            "34            285.0    779  \n",
            "25            538.0    669  \n",
            "27          18031.0    588  \n",
            "38           1776.0    501  \n",
            "40              1.0    495  \n",
            "57            510.0    479  \n",
            "20              9.0    469  \n",
            "3           85271.0    467  \n",
            "8              16.0    444  \n",
            "1            1021.0    421  \n",
            "29            116.0    421  \n",
            "9           73359.0    398  \n",
            "15           6628.0    378  \n",
            "13          26242.0    361  \n",
            "26           3899.0    328  \n",
            "17            645.0    319  \n",
            "10          24972.0    288  \n",
            "31          11699.0    282  \n"
          ]
        }
      ],
      "source": [
        "data = df.sort_values([\"Price\"], axis=0, ascending=False)[:20]\n",
        "print(data)"
      ]
    },
    {
      "cell_type": "code",
      "execution_count": null,
      "metadata": {
        "colab": {
          "base_uri": "https://localhost:8080/"
        },
        "id": "Id18Mj3V1Yu3",
        "outputId": "d5389eb2-b8f7-4ef6-b2b8-56de96b4906e"
      },
      "outputs": [
        {
          "name": "stdout",
          "output_type": "stream",
          "text": [
            "                                            Book Name  \\\n",
            "54  Arihant CBSE Sample Question Papers Science, S...   \n",
            "59  My First Learning Library Box Set [ Includes 2...   \n",
            "34  MTG 36 Years NEET Previous Year Solved Questio...   \n",
            "25  Indian Polity for UPSC (English| 7th Edition) ...   \n",
            "27                               THE 48 LAWS OF POWER   \n",
            "38  Quantitative Aptitude for Competitive Examinat...   \n",
            "40  Best Books Series Set of 3 Hidden Hindu Triolo...   \n",
            "57  Oswaal CBSE Class 10 Science Question Bank (Fo...   \n",
            "20            SSC GD (COMBO) MATH +REASONING+GK+HINDI   \n",
            "3   Atomic Habits: the life-changing million-copy ...   \n",
            "8                                Diary of a Wimpy Kid   \n",
            "1   PW Physics Med Easy Notes | Notes, Formulas, M...   \n",
            "29  PW Chemistry Med Easy | Notes, Formulas, Tips ...   \n",
            "15                               India that is Bharat   \n",
            "13  Rich Dad Poor Dad: 25th Anniversary Edit: (25t...   \n",
            "17  NTA UGC NET /SET/JRF Paper 1, Teaching and Res...   \n",
            "10  World's Greatest Pack for Personal Growth and ...   \n",
            "31  Courage To Be Disliked, The: How to free yours...   \n",
            "\n",
            "                                               Author  Rating  \\\n",
            "54  Rudraksh Tripathi Punya Pratap, Pooja Yadav, A...     4.2   \n",
            "59                                 Wonder House Books     4.6   \n",
            "34                                MTG Editorial Board     4.3   \n",
            "25                                       M Laxmikanth     4.6   \n",
            "27                                      Robert Greene     4.6   \n",
            "38                                      R. S Aggarwal     4.3   \n",
            "40                                       Akshat Gupta     5.0   \n",
            "57                             Oswaal Editorial Board     4.4   \n",
            "20                                        Ankit Bhati     4.4   \n",
            "3                                         James Clear     4.6   \n",
            "8                                         Jeff Kinney     4.9   \n",
            "1                            Dr. Manish Raj (MR. Sir)     4.9   \n",
            "29                                    Pankaj Sijairya     4.6   \n",
            "15                                       J Sai Deepak     4.8   \n",
            "13                                 Robert T. Kiyosaki     4.5   \n",
            "17                                         KVS Madaan     4.4   \n",
            "10                                      Dale Carnegie     4.5   \n",
            "31                   Ichiro Kishimi and Fumitake Koga     4.5   \n",
            "\n",
            "    Customers_Rated  Price  \n",
            "54             31.0    808  \n",
            "59          14399.0    799  \n",
            "34            285.0    779  \n",
            "25            538.0    669  \n",
            "27          18031.0    588  \n",
            "38           1776.0    501  \n",
            "40              1.0    495  \n",
            "57            510.0    479  \n",
            "20              9.0    469  \n",
            "3           85271.0    467  \n",
            "8              16.0    444  \n",
            "1            1021.0    421  \n",
            "29            116.0    421  \n",
            "15           6628.0    378  \n",
            "13          26242.0    361  \n",
            "17            645.0    319  \n",
            "10          24972.0    288  \n",
            "31          11699.0    282  \n"
          ]
        }
      ],
      "source": [
        "#remove duplicated row\n",
        "data2 = data.drop_duplicates(subset='Author', keep=\"first\")\n",
        "print(data2)"
      ]
    },
    {
      "cell_type": "code",
      "execution_count": null,
      "metadata": {
        "colab": {
          "base_uri": "https://localhost:8080/"
        },
        "id": "WxdNGx_q1gV5",
        "outputId": "5270440b-9b1e-4217-d341-0640ee5a9b84"
      },
      "outputs": [
        {
          "name": "stdout",
          "output_type": "stream",
          "text": [
            "Requirement already satisfied: bokeh in /usr/local/lib/python3.10/dist-packages (3.2.2)\n",
            "Collecting bokeh\n",
            "  Downloading bokeh-3.3.0-py3-none-any.whl (6.8 MB)\n",
            "\u001b[2K     \u001b[90m━━━━━━━━━━━━━━━━━━━━━━━━━━━━━━━━━━━━━━━━\u001b[0m \u001b[32m6.8/6.8 MB\u001b[0m \u001b[31m50.0 MB/s\u001b[0m eta \u001b[36m0:00:00\u001b[0m\n",
            "\u001b[?25hRequirement already satisfied: Jinja2>=2.9 in /usr/local/lib/python3.10/dist-packages (from bokeh) (3.1.2)\n",
            "Requirement already satisfied: contourpy>=1 in /usr/local/lib/python3.10/dist-packages (from bokeh) (1.1.1)\n",
            "Requirement already satisfied: numpy>=1.16 in /usr/local/lib/python3.10/dist-packages (from bokeh) (1.23.5)\n",
            "Requirement already satisfied: packaging>=16.8 in /usr/local/lib/python3.10/dist-packages (from bokeh) (23.2)\n",
            "Requirement already satisfied: pandas>=1.2 in /usr/local/lib/python3.10/dist-packages (from bokeh) (1.5.3)\n",
            "Requirement already satisfied: pillow>=7.1.0 in /usr/local/lib/python3.10/dist-packages (from bokeh) (9.4.0)\n",
            "Requirement already satisfied: PyYAML>=3.10 in /usr/local/lib/python3.10/dist-packages (from bokeh) (6.0.1)\n",
            "Requirement already satisfied: tornado>=5.1 in /usr/local/lib/python3.10/dist-packages (from bokeh) (6.3.2)\n",
            "Requirement already satisfied: xyzservices>=2021.09.1 in /usr/local/lib/python3.10/dist-packages (from bokeh) (2023.10.0)\n",
            "Requirement already satisfied: MarkupSafe>=2.0 in /usr/local/lib/python3.10/dist-packages (from Jinja2>=2.9->bokeh) (2.1.3)\n",
            "Requirement already satisfied: python-dateutil>=2.8.1 in /usr/local/lib/python3.10/dist-packages (from pandas>=1.2->bokeh) (2.8.2)\n",
            "Requirement already satisfied: pytz>=2020.1 in /usr/local/lib/python3.10/dist-packages (from pandas>=1.2->bokeh) (2023.3.post1)\n",
            "Requirement already satisfied: six>=1.5 in /usr/local/lib/python3.10/dist-packages (from python-dateutil>=2.8.1->pandas>=1.2->bokeh) (1.16.0)\n",
            "Installing collected packages: bokeh\n",
            "  Attempting uninstall: bokeh\n",
            "    Found existing installation: bokeh 3.2.2\n",
            "    Uninstalling bokeh-3.2.2:\n",
            "      Successfully uninstalled bokeh-3.2.2\n",
            "\u001b[31mERROR: pip's dependency resolver does not currently take into account all the packages that are installed. This behaviour is the source of the following dependency conflicts.\n",
            "panel 1.2.3 requires bokeh<3.3.0,>=3.1.1, but you have bokeh 3.3.0 which is incompatible.\u001b[0m\u001b[31m\n",
            "\u001b[0mSuccessfully installed bokeh-3.3.0\n"
          ]
        }
      ],
      "source": [
        "pip  install --upgrade bokeh"
      ]
    },
    {
      "cell_type": "code",
      "execution_count": null,
      "metadata": {
        "id": "9FlOwLr_1diu"
      },
      "outputs": [],
      "source": [
        "from bokeh.models import ColumnDataSource\n",
        "from bokeh.transform import dodge\n",
        "import math\n",
        "from bokeh.io import curdoc\n",
        "curdoc().clear()\n",
        "from bokeh.io import push_notebook, show, output_notebook\n",
        "from bokeh.layouts import row\n",
        "from bokeh.plotting import figure\n",
        "from bokeh.transform import factor_cmap\n",
        "from bokeh.models import Legend\n",
        "output_notebook()"
      ]
    },
    {
      "cell_type": "code",
      "execution_count": null,
      "metadata": {
        "colab": {
          "base_uri": "https://localhost:8080/",
          "height": 567
        },
        "id": "cETQbVT_1mzG",
        "outputId": "09729689-4b68-449e-9b0f-2520e961407b"
      },
      "outputs": [
        {
          "data": {
            "application/javascript": "(function(root) {\n  function now() {\n    return new Date();\n  }\n\n  const force = true;\n\n  if (typeof root._bokeh_onload_callbacks === \"undefined\" || force === true) {\n    root._bokeh_onload_callbacks = [];\n    root._bokeh_is_loading = undefined;\n  }\n\nconst JS_MIME_TYPE = 'application/javascript';\n  const HTML_MIME_TYPE = 'text/html';\n  const EXEC_MIME_TYPE = 'application/vnd.bokehjs_exec.v0+json';\n  const CLASS_NAME = 'output_bokeh rendered_html';\n\n  /**\n   * Render data to the DOM node\n   */\n  function render(props, node) {\n    const script = document.createElement(\"script\");\n    node.appendChild(script);\n  }\n\n  /**\n   * Handle when an output is cleared or removed\n   */\n  function handleClearOutput(event, handle) {\n    function drop(id) {\n      const view = Bokeh.index.get_by_id(id)\n      if (view != null) {\n        view.model.document.clear()\n        Bokeh.index.delete(view)\n      }\n    }\n\n    const cell = handle.cell;\n\n    const id = cell.output_area._bokeh_element_id;\n    const server_id = cell.output_area._bokeh_server_id;\n\n    // Clean up Bokeh references\n    if (id != null) {\n      drop(id)\n    }\n\n    if (server_id !== undefined) {\n      // Clean up Bokeh references\n      const cmd_clean = \"from bokeh.io.state import curstate; print(curstate().uuid_to_server['\" + server_id + \"'].get_sessions()[0].document.roots[0]._id)\";\n      cell.notebook.kernel.execute(cmd_clean, {\n        iopub: {\n          output: function(msg) {\n            const id = msg.content.text.trim()\n            drop(id)\n          }\n        }\n      });\n      // Destroy server and session\n      const cmd_destroy = \"import bokeh.io.notebook as ion; ion.destroy_server('\" + server_id + \"')\";\n      cell.notebook.kernel.execute(cmd_destroy);\n    }\n  }\n\n  /**\n   * Handle when a new output is added\n   */\n  function handleAddOutput(event, handle) {\n    const output_area = handle.output_area;\n    const output = handle.output;\n\n    // limit handleAddOutput to display_data with EXEC_MIME_TYPE content only\n    if ((output.output_type != \"display_data\") || (!Object.prototype.hasOwnProperty.call(output.data, EXEC_MIME_TYPE))) {\n      return\n    }\n\n    const toinsert = output_area.element.find(\".\" + CLASS_NAME.split(' ')[0]);\n\n    if (output.metadata[EXEC_MIME_TYPE][\"id\"] !== undefined) {\n      toinsert[toinsert.length - 1].firstChild.textContent = output.data[JS_MIME_TYPE];\n      // store reference to embed id on output_area\n      output_area._bokeh_element_id = output.metadata[EXEC_MIME_TYPE][\"id\"];\n    }\n    if (output.metadata[EXEC_MIME_TYPE][\"server_id\"] !== undefined) {\n      const bk_div = document.createElement(\"div\");\n      bk_div.innerHTML = output.data[HTML_MIME_TYPE];\n      const script_attrs = bk_div.children[0].attributes;\n      for (let i = 0; i < script_attrs.length; i++) {\n        toinsert[toinsert.length - 1].firstChild.setAttribute(script_attrs[i].name, script_attrs[i].value);\n        toinsert[toinsert.length - 1].firstChild.textContent = bk_div.children[0].textContent\n      }\n      // store reference to server id on output_area\n      output_area._bokeh_server_id = output.metadata[EXEC_MIME_TYPE][\"server_id\"];\n    }\n  }\n\n  function register_renderer(events, OutputArea) {\n\n    function append_mime(data, metadata, element) {\n      // create a DOM node to render to\n      const toinsert = this.create_output_subarea(\n        metadata,\n        CLASS_NAME,\n        EXEC_MIME_TYPE\n      );\n      this.keyboard_manager.register_events(toinsert);\n      // Render to node\n      const props = {data: data, metadata: metadata[EXEC_MIME_TYPE]};\n      render(props, toinsert[toinsert.length - 1]);\n      element.append(toinsert);\n      return toinsert\n    }\n\n    /* Handle when an output is cleared or removed */\n    events.on('clear_output.CodeCell', handleClearOutput);\n    events.on('delete.Cell', handleClearOutput);\n\n    /* Handle when a new output is added */\n    events.on('output_added.OutputArea', handleAddOutput);\n\n    /**\n     * Register the mime type and append_mime function with output_area\n     */\n    OutputArea.prototype.register_mime_type(EXEC_MIME_TYPE, append_mime, {\n      /* Is output safe? */\n      safe: true,\n      /* Index of renderer in `output_area.display_order` */\n      index: 0\n    });\n  }\n\n  // register the mime type if in Jupyter Notebook environment and previously unregistered\n  if (root.Jupyter !== undefined) {\n    const events = require('base/js/events');\n    const OutputArea = require('notebook/js/outputarea').OutputArea;\n\n    if (OutputArea.prototype.mime_types().indexOf(EXEC_MIME_TYPE) == -1) {\n      register_renderer(events, OutputArea);\n    }\n  }\n  if (typeof (root._bokeh_timeout) === \"undefined\" || force === true) {\n    root._bokeh_timeout = Date.now() + 5000;\n    root._bokeh_failed_load = false;\n  }\n\n  const NB_LOAD_WARNING = {'data': {'text/html':\n     \"<div style='background-color: #fdd'>\\n\"+\n     \"<p>\\n\"+\n     \"BokehJS does not appear to have successfully loaded. If loading BokehJS from CDN, this \\n\"+\n     \"may be due to a slow or bad network connection. Possible fixes:\\n\"+\n     \"</p>\\n\"+\n     \"<ul>\\n\"+\n     \"<li>re-rerun `output_notebook()` to attempt to load from CDN again, or</li>\\n\"+\n     \"<li>use INLINE resources instead, as so:</li>\\n\"+\n     \"</ul>\\n\"+\n     \"<code>\\n\"+\n     \"from bokeh.resources import INLINE\\n\"+\n     \"output_notebook(resources=INLINE)\\n\"+\n     \"</code>\\n\"+\n     \"</div>\"}};\n\n  function display_loaded() {\n    const el = document.getElementById(null);\n    if (el != null) {\n      el.textContent = \"BokehJS is loading...\";\n    }\n    if (root.Bokeh !== undefined) {\n      if (el != null) {\n        el.textContent = \"BokehJS \" + root.Bokeh.version + \" successfully loaded.\";\n      }\n    } else if (Date.now() < root._bokeh_timeout) {\n      setTimeout(display_loaded, 100)\n    }\n  }\n\n  function run_callbacks() {\n    try {\n      root._bokeh_onload_callbacks.forEach(function(callback) {\n        if (callback != null)\n          callback();\n      });\n    } finally {\n      delete root._bokeh_onload_callbacks\n    }\n    console.debug(\"Bokeh: all callbacks have finished\");\n  }\n\n  function load_libs(css_urls, js_urls, callback) {\n    if (css_urls == null) css_urls = [];\n    if (js_urls == null) js_urls = [];\n\n    root._bokeh_onload_callbacks.push(callback);\n    if (root._bokeh_is_loading > 0) {\n      console.debug(\"Bokeh: BokehJS is being loaded, scheduling callback at\", now());\n      return null;\n    }\n    if (js_urls == null || js_urls.length === 0) {\n      run_callbacks();\n      return null;\n    }\n    console.debug(\"Bokeh: BokehJS not loaded, scheduling load and callback at\", now());\n    root._bokeh_is_loading = css_urls.length + js_urls.length;\n\n    function on_load() {\n      root._bokeh_is_loading--;\n      if (root._bokeh_is_loading === 0) {\n        console.debug(\"Bokeh: all BokehJS libraries/stylesheets loaded\");\n        run_callbacks()\n      }\n    }\n\n    function on_error(url) {\n      console.error(\"failed to load \" + url);\n    }\n\n    for (let i = 0; i < css_urls.length; i++) {\n      const url = css_urls[i];\n      const element = document.createElement(\"link\");\n      element.onload = on_load;\n      element.onerror = on_error.bind(null, url);\n      element.rel = \"stylesheet\";\n      element.type = \"text/css\";\n      element.href = url;\n      console.debug(\"Bokeh: injecting link tag for BokehJS stylesheet: \", url);\n      document.body.appendChild(element);\n    }\n\n    for (let i = 0; i < js_urls.length; i++) {\n      const url = js_urls[i];\n      const element = document.createElement('script');\n      element.onload = on_load;\n      element.onerror = on_error.bind(null, url);\n      element.async = false;\n      element.src = url;\n      console.debug(\"Bokeh: injecting script tag for BokehJS library: \", url);\n      document.head.appendChild(element);\n    }\n  };\n\n  function inject_raw_css(css) {\n    const element = document.createElement(\"style\");\n    element.appendChild(document.createTextNode(css));\n    document.body.appendChild(element);\n  }\n\n  const js_urls = [\"https://cdn.bokeh.org/bokeh/release/bokeh-3.3.0.min.js\", \"https://cdn.bokeh.org/bokeh/release/bokeh-gl-3.3.0.min.js\", \"https://cdn.bokeh.org/bokeh/release/bokeh-widgets-3.3.0.min.js\", \"https://cdn.bokeh.org/bokeh/release/bokeh-tables-3.3.0.min.js\", \"https://cdn.bokeh.org/bokeh/release/bokeh-mathjax-3.3.0.min.js\"];\n  const css_urls = [];\n\n  const inline_js = [    function(Bokeh) {\n      Bokeh.set_log_level(\"info\");\n    },\nfunction(Bokeh) {\n    }\n  ];\n\n  function run_inline_js() {\n    if (root.Bokeh !== undefined || force === true) {\n          for (let i = 0; i < inline_js.length; i++) {\n      inline_js[i].call(root, root.Bokeh);\n    }\n} else if (Date.now() < root._bokeh_timeout) {\n      setTimeout(run_inline_js, 100);\n    } else if (!root._bokeh_failed_load) {\n      console.log(\"Bokeh: BokehJS failed to load within specified timeout.\");\n      root._bokeh_failed_load = true;\n    } else if (force !== true) {\n      const cell = $(document.getElementById(null)).parents('.cell').data().cell;\n      cell.output_area.append_execute_result(NB_LOAD_WARNING)\n    }\n  }\n\n  if (root._bokeh_is_loading === 0) {\n    console.debug(\"Bokeh: BokehJS loaded, going straight to plotting\");\n    run_inline_js();\n  } else {\n    load_libs(css_urls, js_urls, function() {\n      console.debug(\"Bokeh: BokehJS plotting callback run at\", now());\n      run_inline_js();\n    });\n  }\n}(window));",
            "application/vnd.bokehjs_load.v0+json": ""
          },
          "metadata": {},
          "output_type": "display_data"
        },
        {
          "data": {
            "text/html": [
              "\n",
              "  <div id=\"f7de8812-12e5-4515-9d38-8041bf090194\" data-root-id=\"p1037\" style=\"display: contents;\"></div>\n"
            ]
          },
          "metadata": {},
          "output_type": "display_data"
        },
        {
          "data": {
            "application/javascript": "(function(root) {\n  function embed_document(root) {\n  const docs_json = {\"9717501b-58cb-4f21-94e5-819991008f92\":{\"version\":\"3.3.0\",\"title\":\"Bokeh Application\",\"roots\":[{\"type\":\"object\",\"name\":\"Figure\",\"id\":\"p1037\",\"attributes\":{\"width\":800,\"height\":550,\"x_range\":{\"type\":\"object\",\"name\":\"FactorRange\",\"id\":\"p1047\",\"attributes\":{\"factors\":[\"Rudraksh Tripathi Punya Pratap, Pooja Yadav, Anuksha Arora Sunil Rathore, Chanchal Sharma\",\"Wonder House Books\",\"MTG Editorial Board\",\"M Laxmikanth\",\"Robert Greene\",\"R. S Aggarwal\",\"Akshat Gupta\",\"Oswaal Editorial Board\",\"Ankit Bhati\",\"James Clear\",\"Jeff Kinney\",\"Dr. Manish Raj (MR. Sir)\",\"Pankaj Sijairya\",\"J Sai Deepak\",\"Robert T. Kiyosaki\",\"KVS Madaan\",\"Dale Carnegie\",\"Ichiro Kishimi and Fumitake Koga\"]}},\"y_range\":{\"type\":\"object\",\"name\":\"DataRange1d\",\"id\":\"p1039\",\"attributes\":{\"start\":0}},\"x_scale\":{\"type\":\"object\",\"name\":\"CategoricalScale\",\"id\":\"p1048\"},\"y_scale\":{\"type\":\"object\",\"name\":\"LinearScale\",\"id\":\"p1049\"},\"title\":{\"type\":\"object\",\"name\":\"Title\",\"id\":\"p1040\",\"attributes\":{\"text\":\"Authors Highest Priced Book\"}},\"renderers\":[{\"type\":\"object\",\"name\":\"GlyphRenderer\",\"id\":\"p1066\",\"attributes\":{\"data_source\":{\"type\":\"object\",\"name\":\"ColumnDataSource\",\"id\":\"p1060\",\"attributes\":{\"selected\":{\"type\":\"object\",\"name\":\"Selection\",\"id\":\"p1061\",\"attributes\":{\"indices\":[],\"line_indices\":[]}},\"selection_policy\":{\"type\":\"object\",\"name\":\"UnionRenderers\",\"id\":\"p1062\"},\"data\":{\"type\":\"map\",\"entries\":[[\"x\",{\"type\":\"ndarray\",\"array\":[\"Rudraksh Tripathi Punya Pratap, Pooja Yadav, Anuksha Arora Sunil Rathore, Chanchal Sharma\",\"Wonder House Books\",\"MTG Editorial Board\",\"M Laxmikanth\",\"Robert Greene\",\"R. S Aggarwal\",\"Akshat Gupta\",\"Oswaal Editorial Board\",\"Ankit Bhati\",\"James Clear\",\"Jeff Kinney\",\"Dr. Manish Raj (MR. Sir)\",\"Pankaj Sijairya\",\"J Sai Deepak\",\"Robert T. Kiyosaki\",\"KVS Madaan\",\"Dale Carnegie\",\"Ichiro Kishimi and Fumitake Koga\"],\"shape\":[18],\"dtype\":\"object\",\"order\":\"little\"}],[\"top\",{\"type\":\"ndarray\",\"array\":{\"type\":\"bytes\",\"data\":\"KAMAAB8DAAALAwAAnQIAAEwCAAD1AQAA7wEAAN8BAADVAQAA0wEAALwBAAClAQAApQEAAHoBAABpAQAAPwEAACABAAAaAQAA\"},\"shape\":[18],\"dtype\":\"int32\",\"order\":\"little\"}]]}}},\"view\":{\"type\":\"object\",\"name\":\"CDSView\",\"id\":\"p1067\",\"attributes\":{\"filter\":{\"type\":\"object\",\"name\":\"AllIndices\",\"id\":\"p1068\"}}},\"glyph\":{\"type\":\"object\",\"name\":\"VBar\",\"id\":\"p1063\",\"attributes\":{\"x\":{\"type\":\"field\",\"field\":\"x\"},\"width\":{\"type\":\"value\",\"value\":0.9},\"top\":{\"type\":\"field\",\"field\":\"top\"},\"line_color\":{\"type\":\"value\",\"value\":\"#1f77b4\"},\"fill_color\":{\"type\":\"value\",\"value\":\"#1f77b4\"}}},\"nonselection_glyph\":{\"type\":\"object\",\"name\":\"VBar\",\"id\":\"p1064\",\"attributes\":{\"x\":{\"type\":\"field\",\"field\":\"x\"},\"width\":{\"type\":\"value\",\"value\":0.9},\"top\":{\"type\":\"field\",\"field\":\"top\"},\"line_color\":{\"type\":\"value\",\"value\":\"#1f77b4\"},\"line_alpha\":{\"type\":\"value\",\"value\":0.1},\"fill_color\":{\"type\":\"value\",\"value\":\"#1f77b4\"},\"fill_alpha\":{\"type\":\"value\",\"value\":0.1},\"hatch_alpha\":{\"type\":\"value\",\"value\":0.1}}},\"muted_glyph\":{\"type\":\"object\",\"name\":\"VBar\",\"id\":\"p1065\",\"attributes\":{\"x\":{\"type\":\"field\",\"field\":\"x\"},\"width\":{\"type\":\"value\",\"value\":0.9},\"top\":{\"type\":\"field\",\"field\":\"top\"},\"line_color\":{\"type\":\"value\",\"value\":\"#1f77b4\"},\"line_alpha\":{\"type\":\"value\",\"value\":0.2},\"fill_color\":{\"type\":\"value\",\"value\":\"#1f77b4\"},\"fill_alpha\":{\"type\":\"value\",\"value\":0.2},\"hatch_alpha\":{\"type\":\"value\",\"value\":0.2}}}}}],\"toolbar\":{\"type\":\"object\",\"name\":\"Toolbar\",\"id\":\"p1046\"},\"toolbar_location\":null,\"left\":[{\"type\":\"object\",\"name\":\"LinearAxis\",\"id\":\"p1055\",\"attributes\":{\"ticker\":{\"type\":\"object\",\"name\":\"BasicTicker\",\"id\":\"p1056\",\"attributes\":{\"mantissas\":[1,2,5]}},\"formatter\":{\"type\":\"object\",\"name\":\"BasicTickFormatter\",\"id\":\"p1057\"},\"major_label_policy\":{\"type\":\"object\",\"name\":\"AllLabels\",\"id\":\"p1058\"}}}],\"below\":[{\"type\":\"object\",\"name\":\"CategoricalAxis\",\"id\":\"p1050\",\"attributes\":{\"ticker\":{\"type\":\"object\",\"name\":\"CategoricalTicker\",\"id\":\"p1051\"},\"formatter\":{\"type\":\"object\",\"name\":\"CategoricalTickFormatter\",\"id\":\"p1052\"},\"major_label_orientation\":1.5707963267948966,\"major_label_policy\":{\"type\":\"object\",\"name\":\"AllLabels\",\"id\":\"p1053\"}}}],\"center\":[{\"type\":\"object\",\"name\":\"Grid\",\"id\":\"p1054\",\"attributes\":{\"axis\":{\"id\":\"p1050\"},\"grid_line_color\":null}},{\"type\":\"object\",\"name\":\"Grid\",\"id\":\"p1059\",\"attributes\":{\"dimension\":1,\"axis\":{\"id\":\"p1055\"}}}]}}]}};\n  const render_items = [{\"docid\":\"9717501b-58cb-4f21-94e5-819991008f92\",\"roots\":{\"p1037\":\"f7de8812-12e5-4515-9d38-8041bf090194\"},\"root_ids\":[\"p1037\"]}];\n  root.Bokeh.embed.embed_items_notebook(docs_json, render_items);\n  }\n  if (root.Bokeh !== undefined) {\n    embed_document(root);\n  } else {\n    let attempts = 0;\n    const timer = setInterval(function(root) {\n      if (root.Bokeh !== undefined) {\n        clearInterval(timer);\n        embed_document(root);\n      } else {\n        attempts++;\n        if (attempts > 100) {\n          clearInterval(timer);\n          console.log(\"Bokeh: ERROR: Unable to run BokehJS code because BokehJS library is missing\");\n        }\n      }\n    }, 10, root)\n  }\n})(window);",
            "application/vnd.bokehjs_exec.v0+json": ""
          },
          "metadata": {
            "application/vnd.bokehjs_exec.v0+json": {
              "id": "p1037"
            }
          },
          "output_type": "display_data"
        }
      ],
      "source": [
        "p = figure(x_range=data2.iloc[:,1], width=800, height=550, title=\"Authors Highest Priced Book\", toolbar_location=None, tools=\"\")  #Author\n",
        "\n",
        "\n",
        "p.vbar(x=data2.iloc[:,1], top=data2.iloc[:,4], width=0.9) #price\n",
        "\n",
        "p.xgrid.grid_line_color = None\n",
        "p.y_range.start = 0\n",
        "p.xaxis.major_label_orientation = math.pi/2\n",
        "show(p)\n",
        "\n",
        "# https://docs.bokeh.org/en/latest/docs/user_guide/categorical.html"
      ]
    },
    {
      "cell_type": "markdown",
      "metadata": {
        "id": "DU_XQJrS2bRZ"
      },
      "source": [
        "\n",
        "\n",
        "Du graphique ci-dessus, vous pouvez observer que les deux livres les plus chers sont par l'auteur Mecmillanet P L Dhingra.\n"
      ]
    },
    {
      "cell_type": "markdown",
      "metadata": {
        "id": "VfU074u32eN_"
      },
      "source": [
        "\n",
        "# Livres et auteurs les mieux notés par les clients\n",
        "\n",
        "\n",
        "\n",
        "\n",
        "Voyons quels auteurs ont les livres les mieux notés et quels livres de ces auteurs sont les mieux notés. Cependant, tout en découvrant cela, vous filtreriez les auteurs pour lesquels moins de 1000 clients ont évalué.\n"
      ]
    },
    {
      "cell_type": "code",
      "execution_count": null,
      "metadata": {
        "colab": {
          "base_uri": "https://localhost:8080/"
        },
        "id": "8HcCon9a2j1H",
        "outputId": "33a389df-dbd8-4aa9-b3e2-46e5fcb6df03"
      },
      "outputs": [
        {
          "name": "stdout",
          "output_type": "stream",
          "text": [
            "                                            Book Name  \\\n",
            "1   PW Physics Med Easy Notes | Notes, Formulas, M...   \n",
            "16                    Shrimad Bhagwat Geeta Yatharoop   \n",
            "15                               India that is Bharat   \n",
            "52     KARMA: A YOGI'S GUIDE TO CRAFTING YOUR DESTINY   \n",
            "12  Grandma's Bag of Stories: Collection of 20+ Il...   \n",
            "39  Tuesdays With Morrie: An old man, a young man,...   \n",
            "36                                      The Alchemist   \n",
            "27                               THE 48 LAWS OF POWER   \n",
            "2                             The Psychology Of Money   \n",
            "24  Autobiography of a Yogi (Complete Original Edi...   \n",
            "59  My First Learning Library Box Set [ Includes 2...   \n",
            "3   Atomic Habits: the life-changing million-copy ...   \n",
            "4                                              Ikigai   \n",
            "13  Rich Dad Poor Dad: 25th Anniversary Edit: (25t...   \n",
            "6        Don't Believe Everything You Think (English)   \n",
            "\n",
            "                                  Author  Rating  Customers_Rated  Price  \n",
            "1               Dr. Manish Raj (MR. Sir)     4.9           1021.0    421  \n",
            "16  A.C. Bhaktivendanta Swami Prabhupada     4.8          17503.0    278  \n",
            "15                          J Sai Deepak     4.8           6628.0    378  \n",
            "52                              Sadhguru     4.7          14690.0    169  \n",
            "12                           Murty Sudha     4.6          20146.0    167  \n",
            "39                           Mitch Albom     4.6          23558.0    235  \n",
            "36                          Paulo Coelho     4.6         141655.0    246  \n",
            "27                         Robert Greene     4.6          18031.0    588  \n",
            "2                          Morgan Housel     4.6          55247.0    230  \n",
            "24                 Paramahansa Yogananda     4.6           9533.0    154  \n",
            "59                    Wonder House Books     4.6          14399.0    799  \n",
            "3                            James Clear     4.6          85271.0    467  \n",
            "4                      Francesc Miralles     4.6          50938.0    266  \n",
            "13                    Robert T. Kiyosaki     4.5          26242.0    361  \n",
            "6                          Joseph Nguyen     4.5           2929.0    175  \n"
          ]
        }
      ],
      "source": [
        "data =df[df['Customers_Rated'].astype(int) > 1000]\n",
        "data = data.sort_values(['Rating'],axis=0, ascending=False)[:15]\n",
        "print(data)"
      ]
    },
    {
      "cell_type": "code",
      "execution_count": null,
      "metadata": {
        "colab": {
          "base_uri": "https://localhost:8080/",
          "height": 464
        },
        "id": "Bd2yyAq4qgnl",
        "outputId": "653e3fc4-9458-4cc4-95a1-24cdc6b7a8f9"
      },
      "outputs": [
        {
          "name": "stdout",
          "output_type": "stream",
          "text": [
            "Collecting bokeh==2.4.3\n",
            "  Downloading bokeh-2.4.3-py3-none-any.whl (18.5 MB)\n",
            "\u001b[2K     \u001b[90m━━━━━━━━━━━━━━━━━━━━━━━━━━━━━━━━━━━━━━━━\u001b[0m \u001b[32m18.5/18.5 MB\u001b[0m \u001b[31m72.9 MB/s\u001b[0m eta \u001b[36m0:00:00\u001b[0m\n",
            "\u001b[?25hRequirement already satisfied: Jinja2>=2.9 in /usr/local/lib/python3.10/dist-packages (from bokeh==2.4.3) (3.1.2)\n",
            "Requirement already satisfied: numpy>=1.11.3 in /usr/local/lib/python3.10/dist-packages (from bokeh==2.4.3) (1.23.5)\n",
            "Requirement already satisfied: packaging>=16.8 in /usr/local/lib/python3.10/dist-packages (from bokeh==2.4.3) (23.2)\n",
            "Requirement already satisfied: pillow>=7.1.0 in /usr/local/lib/python3.10/dist-packages (from bokeh==2.4.3) (9.4.0)\n",
            "Requirement already satisfied: PyYAML>=3.10 in /usr/local/lib/python3.10/dist-packages (from bokeh==2.4.3) (6.0.1)\n",
            "Requirement already satisfied: tornado>=5.1 in /usr/local/lib/python3.10/dist-packages (from bokeh==2.4.3) (6.3.2)\n",
            "Requirement already satisfied: typing-extensions>=3.10.0 in /usr/local/lib/python3.10/dist-packages (from bokeh==2.4.3) (4.5.0)\n",
            "Requirement already satisfied: MarkupSafe>=2.0 in /usr/local/lib/python3.10/dist-packages (from Jinja2>=2.9->bokeh==2.4.3) (2.1.3)\n",
            "Installing collected packages: bokeh\n",
            "  Attempting uninstall: bokeh\n",
            "    Found existing installation: bokeh 3.3.0\n",
            "    Uninstalling bokeh-3.3.0:\n",
            "      Successfully uninstalled bokeh-3.3.0\n",
            "\u001b[31mERROR: pip's dependency resolver does not currently take into account all the packages that are installed. This behaviour is the source of the following dependency conflicts.\n",
            "panel 1.2.3 requires bokeh<3.3.0,>=3.1.1, but you have bokeh 2.4.3 which is incompatible.\u001b[0m\u001b[31m\n",
            "\u001b[0mSuccessfully installed bokeh-2.4.3\n"
          ]
        },
        {
          "data": {
            "application/vnd.colab-display-data+json": {
              "pip_warning": {
                "packages": [
                  "bokeh"
                ]
              }
            }
          },
          "metadata": {},
          "output_type": "display_data"
        }
      ],
      "source": [
        "pip install --upgrade bokeh==2.4.3"
      ]
    },
    {
      "cell_type": "code",
      "execution_count": null,
      "metadata": {
        "colab": {
          "base_uri": "https://localhost:8080/",
          "height": 684
        },
        "id": "zR8v4YPC2fsO",
        "outputId": "f8ca7881-0022-49aa-f941-3a9315708f60"
      },
      "outputs": [
        {
          "data": {
            "application/javascript": "(function(root) {\n  function now() {\n    return new Date();\n  }\n\n  const force = true;\n\n  if (typeof root._bokeh_onload_callbacks === \"undefined\" || force === true) {\n    root._bokeh_onload_callbacks = [];\n    root._bokeh_is_loading = undefined;\n  }\n\nconst JS_MIME_TYPE = 'application/javascript';\n  const HTML_MIME_TYPE = 'text/html';\n  const EXEC_MIME_TYPE = 'application/vnd.bokehjs_exec.v0+json';\n  const CLASS_NAME = 'output_bokeh rendered_html';\n\n  /**\n   * Render data to the DOM node\n   */\n  function render(props, node) {\n    const script = document.createElement(\"script\");\n    node.appendChild(script);\n  }\n\n  /**\n   * Handle when an output is cleared or removed\n   */\n  function handleClearOutput(event, handle) {\n    function drop(id) {\n      const view = Bokeh.index.get_by_id(id)\n      if (view != null) {\n        view.model.document.clear()\n        Bokeh.index.delete(view)\n      }\n    }\n\n    const cell = handle.cell;\n\n    const id = cell.output_area._bokeh_element_id;\n    const server_id = cell.output_area._bokeh_server_id;\n\n    // Clean up Bokeh references\n    if (id != null) {\n      drop(id)\n    }\n\n    if (server_id !== undefined) {\n      // Clean up Bokeh references\n      const cmd_clean = \"from bokeh.io.state import curstate; print(curstate().uuid_to_server['\" + server_id + \"'].get_sessions()[0].document.roots[0]._id)\";\n      cell.notebook.kernel.execute(cmd_clean, {\n        iopub: {\n          output: function(msg) {\n            const id = msg.content.text.trim()\n            drop(id)\n          }\n        }\n      });\n      // Destroy server and session\n      const cmd_destroy = \"import bokeh.io.notebook as ion; ion.destroy_server('\" + server_id + \"')\";\n      cell.notebook.kernel.execute(cmd_destroy);\n    }\n  }\n\n  /**\n   * Handle when a new output is added\n   */\n  function handleAddOutput(event, handle) {\n    const output_area = handle.output_area;\n    const output = handle.output;\n\n    // limit handleAddOutput to display_data with EXEC_MIME_TYPE content only\n    if ((output.output_type != \"display_data\") || (!Object.prototype.hasOwnProperty.call(output.data, EXEC_MIME_TYPE))) {\n      return\n    }\n\n    const toinsert = output_area.element.find(\".\" + CLASS_NAME.split(' ')[0]);\n\n    if (output.metadata[EXEC_MIME_TYPE][\"id\"] !== undefined) {\n      toinsert[toinsert.length - 1].firstChild.textContent = output.data[JS_MIME_TYPE];\n      // store reference to embed id on output_area\n      output_area._bokeh_element_id = output.metadata[EXEC_MIME_TYPE][\"id\"];\n    }\n    if (output.metadata[EXEC_MIME_TYPE][\"server_id\"] !== undefined) {\n      const bk_div = document.createElement(\"div\");\n      bk_div.innerHTML = output.data[HTML_MIME_TYPE];\n      const script_attrs = bk_div.children[0].attributes;\n      for (let i = 0; i < script_attrs.length; i++) {\n        toinsert[toinsert.length - 1].firstChild.setAttribute(script_attrs[i].name, script_attrs[i].value);\n        toinsert[toinsert.length - 1].firstChild.textContent = bk_div.children[0].textContent\n      }\n      // store reference to server id on output_area\n      output_area._bokeh_server_id = output.metadata[EXEC_MIME_TYPE][\"server_id\"];\n    }\n  }\n\n  function register_renderer(events, OutputArea) {\n\n    function append_mime(data, metadata, element) {\n      // create a DOM node to render to\n      const toinsert = this.create_output_subarea(\n        metadata,\n        CLASS_NAME,\n        EXEC_MIME_TYPE\n      );\n      this.keyboard_manager.register_events(toinsert);\n      // Render to node\n      const props = {data: data, metadata: metadata[EXEC_MIME_TYPE]};\n      render(props, toinsert[toinsert.length - 1]);\n      element.append(toinsert);\n      return toinsert\n    }\n\n    /* Handle when an output is cleared or removed */\n    events.on('clear_output.CodeCell', handleClearOutput);\n    events.on('delete.Cell', handleClearOutput);\n\n    /* Handle when a new output is added */\n    events.on('output_added.OutputArea', handleAddOutput);\n\n    /**\n     * Register the mime type and append_mime function with output_area\n     */\n    OutputArea.prototype.register_mime_type(EXEC_MIME_TYPE, append_mime, {\n      /* Is output safe? */\n      safe: true,\n      /* Index of renderer in `output_area.display_order` */\n      index: 0\n    });\n  }\n\n  // register the mime type if in Jupyter Notebook environment and previously unregistered\n  if (root.Jupyter !== undefined) {\n    const events = require('base/js/events');\n    const OutputArea = require('notebook/js/outputarea').OutputArea;\n\n    if (OutputArea.prototype.mime_types().indexOf(EXEC_MIME_TYPE) == -1) {\n      register_renderer(events, OutputArea);\n    }\n  }\n  if (typeof (root._bokeh_timeout) === \"undefined\" || force === true) {\n    root._bokeh_timeout = Date.now() + 5000;\n    root._bokeh_failed_load = false;\n  }\n\n  const NB_LOAD_WARNING = {'data': {'text/html':\n     \"<div style='background-color: #fdd'>\\n\"+\n     \"<p>\\n\"+\n     \"BokehJS does not appear to have successfully loaded. If loading BokehJS from CDN, this \\n\"+\n     \"may be due to a slow or bad network connection. Possible fixes:\\n\"+\n     \"</p>\\n\"+\n     \"<ul>\\n\"+\n     \"<li>re-rerun `output_notebook()` to attempt to load from CDN again, or</li>\\n\"+\n     \"<li>use INLINE resources instead, as so:</li>\\n\"+\n     \"</ul>\\n\"+\n     \"<code>\\n\"+\n     \"from bokeh.resources import INLINE\\n\"+\n     \"output_notebook(resources=INLINE)\\n\"+\n     \"</code>\\n\"+\n     \"</div>\"}};\n\n  function display_loaded() {\n    const el = document.getElementById(null);\n    if (el != null) {\n      el.textContent = \"BokehJS is loading...\";\n    }\n    if (root.Bokeh !== undefined) {\n      if (el != null) {\n        el.textContent = \"BokehJS \" + root.Bokeh.version + \" successfully loaded.\";\n      }\n    } else if (Date.now() < root._bokeh_timeout) {\n      setTimeout(display_loaded, 100)\n    }\n  }\n\n  function run_callbacks() {\n    try {\n      root._bokeh_onload_callbacks.forEach(function(callback) {\n        if (callback != null)\n          callback();\n      });\n    } finally {\n      delete root._bokeh_onload_callbacks\n    }\n    console.debug(\"Bokeh: all callbacks have finished\");\n  }\n\n  function load_libs(css_urls, js_urls, callback) {\n    if (css_urls == null) css_urls = [];\n    if (js_urls == null) js_urls = [];\n\n    root._bokeh_onload_callbacks.push(callback);\n    if (root._bokeh_is_loading > 0) {\n      console.debug(\"Bokeh: BokehJS is being loaded, scheduling callback at\", now());\n      return null;\n    }\n    if (js_urls == null || js_urls.length === 0) {\n      run_callbacks();\n      return null;\n    }\n    console.debug(\"Bokeh: BokehJS not loaded, scheduling load and callback at\", now());\n    root._bokeh_is_loading = css_urls.length + js_urls.length;\n\n    function on_load() {\n      root._bokeh_is_loading--;\n      if (root._bokeh_is_loading === 0) {\n        console.debug(\"Bokeh: all BokehJS libraries/stylesheets loaded\");\n        run_callbacks()\n      }\n    }\n\n    function on_error(url) {\n      console.error(\"failed to load \" + url);\n    }\n\n    for (let i = 0; i < css_urls.length; i++) {\n      const url = css_urls[i];\n      const element = document.createElement(\"link\");\n      element.onload = on_load;\n      element.onerror = on_error.bind(null, url);\n      element.rel = \"stylesheet\";\n      element.type = \"text/css\";\n      element.href = url;\n      console.debug(\"Bokeh: injecting link tag for BokehJS stylesheet: \", url);\n      document.body.appendChild(element);\n    }\n\n    for (let i = 0; i < js_urls.length; i++) {\n      const url = js_urls[i];\n      const element = document.createElement('script');\n      element.onload = on_load;\n      element.onerror = on_error.bind(null, url);\n      element.async = false;\n      element.src = url;\n      console.debug(\"Bokeh: injecting script tag for BokehJS library: \", url);\n      document.head.appendChild(element);\n    }\n  };\n\n  function inject_raw_css(css) {\n    const element = document.createElement(\"style\");\n    element.appendChild(document.createTextNode(css));\n    document.body.appendChild(element);\n  }\n\n  const js_urls = [\"https://cdn.bokeh.org/bokeh/release/bokeh-3.3.0.min.js\", \"https://cdn.bokeh.org/bokeh/release/bokeh-gl-3.3.0.min.js\", \"https://cdn.bokeh.org/bokeh/release/bokeh-widgets-3.3.0.min.js\", \"https://cdn.bokeh.org/bokeh/release/bokeh-tables-3.3.0.min.js\", \"https://cdn.bokeh.org/bokeh/release/bokeh-mathjax-3.3.0.min.js\"];\n  const css_urls = [];\n\n  const inline_js = [    function(Bokeh) {\n      Bokeh.set_log_level(\"info\");\n    },\nfunction(Bokeh) {\n    }\n  ];\n\n  function run_inline_js() {\n    if (root.Bokeh !== undefined || force === true) {\n          for (let i = 0; i < inline_js.length; i++) {\n      inline_js[i].call(root, root.Bokeh);\n    }\n} else if (Date.now() < root._bokeh_timeout) {\n      setTimeout(run_inline_js, 100);\n    } else if (!root._bokeh_failed_load) {\n      console.log(\"Bokeh: BokehJS failed to load within specified timeout.\");\n      root._bokeh_failed_load = true;\n    } else if (force !== true) {\n      const cell = $(document.getElementById(null)).parents('.cell').data().cell;\n      cell.output_area.append_execute_result(NB_LOAD_WARNING)\n    }\n  }\n\n  if (root._bokeh_is_loading === 0) {\n    console.debug(\"Bokeh: BokehJS loaded, going straight to plotting\");\n    run_inline_js();\n  } else {\n    load_libs(css_urls, js_urls, function() {\n      console.debug(\"Bokeh: BokehJS plotting callback run at\", now());\n      run_inline_js();\n    });\n  }\n}(window));",
            "application/vnd.bokehjs_load.v0+json": ""
          },
          "metadata": {},
          "output_type": "display_data"
        },
        {
          "data": {
            "text/html": [
              "\n",
              "  <div id=\"fe60f6d7-3c0b-407c-8ab3-1cb05a67ed2b\" data-root-id=\"p1211\" style=\"display: contents;\"></div>\n"
            ]
          },
          "metadata": {},
          "output_type": "display_data"
        },
        {
          "data": {
            "application/javascript": "(function(root) {\n  function embed_document(root) {\n  const docs_json = {\"a2c14185-6987-4d17-87d7-753a8f253eda\":{\"version\":\"3.3.0\",\"title\":\"Bokeh Application\",\"roots\":[{\"type\":\"object\",\"name\":\"Figure\",\"id\":\"p1211\",\"attributes\":{\"width\":800,\"x_range\":{\"type\":\"object\",\"name\":\"FactorRange\",\"id\":\"p1221\",\"attributes\":{\"factors\":[\"PW Physics Med Easy Notes | Notes, Formulas, Mnemonics, Tips & Tricks for NEET/JEE & Board Exams | MR Sir Physics Handwritten\",\"Shrimad Bhagwat Geeta Yatharoop\",\"India that is Bharat\",\"KARMA: A YOGI'S GUIDE TO CRAFTING YOUR DESTINY\",\"Grandma's Bag of Stories: Collection of 20+ Illustrated short stories, traditional Indian folk tales for all ages for childre\",\"Tuesdays With Morrie: An old man, a young man, and life's greatest lesson [Paperback] Albom, Mitch\",\"The Alchemist\",\"THE 48 LAWS OF POWER\",\"The Psychology Of Money\",\"Autobiography of a Yogi (Complete Original Edition)\",\"My First Learning Library Box Set [ Includes 20 Board Books] \\u2013 Early Learning Books for Children with Well-researched Bright \",\"Atomic Habits: the life-changing million-copy #1 bestseller\",\"Ikigai\",\"Rich Dad Poor Dad: 25th Anniversary Edit: (25th Anniversary Edition)\",\"Don't Believe Everything You Think (English)\"]}},\"y_range\":{\"type\":\"object\",\"name\":\"DataRange1d\",\"id\":\"p1213\",\"attributes\":{\"start\":0}},\"x_scale\":{\"type\":\"object\",\"name\":\"CategoricalScale\",\"id\":\"p1222\"},\"y_scale\":{\"type\":\"object\",\"name\":\"LinearScale\",\"id\":\"p1223\"},\"title\":{\"type\":\"object\",\"name\":\"Title\",\"id\":\"p1214\",\"attributes\":{\"text\":\"Top Rated Books with more than 1000 Customers Rating\"}},\"renderers\":[{\"type\":\"object\",\"name\":\"GlyphRenderer\",\"id\":\"p1240\",\"attributes\":{\"data_source\":{\"type\":\"object\",\"name\":\"ColumnDataSource\",\"id\":\"p1234\",\"attributes\":{\"selected\":{\"type\":\"object\",\"name\":\"Selection\",\"id\":\"p1235\",\"attributes\":{\"indices\":[],\"line_indices\":[]}},\"selection_policy\":{\"type\":\"object\",\"name\":\"UnionRenderers\",\"id\":\"p1236\"},\"data\":{\"type\":\"map\",\"entries\":[[\"x\",{\"type\":\"ndarray\",\"array\":[\"PW Physics Med Easy Notes | Notes, Formulas, Mnemonics, Tips & Tricks for NEET/JEE & Board Exams | MR Sir Physics Handwritten\",\"Shrimad Bhagwat Geeta Yatharoop\",\"India that is Bharat\",\"KARMA: A YOGI'S GUIDE TO CRAFTING YOUR DESTINY\",\"Grandma's Bag of Stories: Collection of 20+ Illustrated short stories, traditional Indian folk tales for all ages for childre\",\"Tuesdays With Morrie: An old man, a young man, and life's greatest lesson [Paperback] Albom, Mitch\",\"The Alchemist\",\"THE 48 LAWS OF POWER\",\"The Psychology Of Money\",\"Autobiography of a Yogi (Complete Original Edition)\",\"My First Learning Library Box Set [ Includes 20 Board Books] \\u2013 Early Learning Books for Children with Well-researched Bright \",\"Atomic Habits: the life-changing million-copy #1 bestseller\",\"Ikigai\",\"Rich Dad Poor Dad: 25th Anniversary Edit: (25th Anniversary Edition)\",\"Don't Believe Everything You Think (English)\"],\"shape\":[15],\"dtype\":\"object\",\"order\":\"little\"}],[\"top\",{\"type\":\"ndarray\",\"array\":{\"type\":\"bytes\",\"data\":\"mpmZmZmZE0AzMzMzMzMTQDMzMzMzMxNAzczMzMzMEkBmZmZmZmYSQGZmZmZmZhJAZmZmZmZmEkBmZmZmZmYSQGZmZmZmZhJAZmZmZmZmEkBmZmZmZmYSQGZmZmZmZhJAZmZmZmZmEkAAAAAAAAASQAAAAAAAABJA\"},\"shape\":[15],\"dtype\":\"float64\",\"order\":\"little\"}]]}}},\"view\":{\"type\":\"object\",\"name\":\"CDSView\",\"id\":\"p1241\",\"attributes\":{\"filter\":{\"type\":\"object\",\"name\":\"AllIndices\",\"id\":\"p1242\"}}},\"glyph\":{\"type\":\"object\",\"name\":\"VBar\",\"id\":\"p1237\",\"attributes\":{\"x\":{\"type\":\"field\",\"field\":\"x\"},\"width\":{\"type\":\"value\",\"value\":0.9},\"top\":{\"type\":\"field\",\"field\":\"top\"},\"line_color\":{\"type\":\"value\",\"value\":\"#1f77b4\"},\"fill_color\":{\"type\":\"value\",\"value\":\"#1f77b4\"}}},\"nonselection_glyph\":{\"type\":\"object\",\"name\":\"VBar\",\"id\":\"p1238\",\"attributes\":{\"x\":{\"type\":\"field\",\"field\":\"x\"},\"width\":{\"type\":\"value\",\"value\":0.9},\"top\":{\"type\":\"field\",\"field\":\"top\"},\"line_color\":{\"type\":\"value\",\"value\":\"#1f77b4\"},\"line_alpha\":{\"type\":\"value\",\"value\":0.1},\"fill_color\":{\"type\":\"value\",\"value\":\"#1f77b4\"},\"fill_alpha\":{\"type\":\"value\",\"value\":0.1},\"hatch_alpha\":{\"type\":\"value\",\"value\":0.1}}},\"muted_glyph\":{\"type\":\"object\",\"name\":\"VBar\",\"id\":\"p1239\",\"attributes\":{\"x\":{\"type\":\"field\",\"field\":\"x\"},\"width\":{\"type\":\"value\",\"value\":0.9},\"top\":{\"type\":\"field\",\"field\":\"top\"},\"line_color\":{\"type\":\"value\",\"value\":\"#1f77b4\"},\"line_alpha\":{\"type\":\"value\",\"value\":0.2},\"fill_color\":{\"type\":\"value\",\"value\":\"#1f77b4\"},\"fill_alpha\":{\"type\":\"value\",\"value\":0.2},\"hatch_alpha\":{\"type\":\"value\",\"value\":0.2}}}}}],\"toolbar\":{\"type\":\"object\",\"name\":\"Toolbar\",\"id\":\"p1220\"},\"toolbar_location\":null,\"left\":[{\"type\":\"object\",\"name\":\"LinearAxis\",\"id\":\"p1229\",\"attributes\":{\"ticker\":{\"type\":\"object\",\"name\":\"BasicTicker\",\"id\":\"p1230\",\"attributes\":{\"mantissas\":[1,2,5]}},\"formatter\":{\"type\":\"object\",\"name\":\"BasicTickFormatter\",\"id\":\"p1231\"},\"major_label_policy\":{\"type\":\"object\",\"name\":\"AllLabels\",\"id\":\"p1232\"}}}],\"below\":[{\"type\":\"object\",\"name\":\"CategoricalAxis\",\"id\":\"p1224\",\"attributes\":{\"ticker\":{\"type\":\"object\",\"name\":\"CategoricalTicker\",\"id\":\"p1225\"},\"formatter\":{\"type\":\"object\",\"name\":\"CategoricalTickFormatter\",\"id\":\"p1226\"},\"major_label_orientation\":1.5707963267948966,\"major_label_policy\":{\"type\":\"object\",\"name\":\"AllLabels\",\"id\":\"p1227\"}}}],\"center\":[{\"type\":\"object\",\"name\":\"Grid\",\"id\":\"p1228\",\"attributes\":{\"axis\":{\"id\":\"p1224\"},\"grid_line_color\":null}},{\"type\":\"object\",\"name\":\"Grid\",\"id\":\"p1233\",\"attributes\":{\"dimension\":1,\"axis\":{\"id\":\"p1229\"}}}]}}]}};\n  const render_items = [{\"docid\":\"a2c14185-6987-4d17-87d7-753a8f253eda\",\"roots\":{\"p1211\":\"fe60f6d7-3c0b-407c-8ab3-1cb05a67ed2b\"},\"root_ids\":[\"p1211\"]}];\n  root.Bokeh.embed.embed_items_notebook(docs_json, render_items);\n  }\n  if (root.Bokeh !== undefined) {\n    embed_document(root);\n  } else {\n    let attempts = 0;\n    const timer = setInterval(function(root) {\n      if (root.Bokeh !== undefined) {\n        clearInterval(timer);\n        embed_document(root);\n      } else {\n        attempts++;\n        if (attempts > 100) {\n          clearInterval(timer);\n          console.log(\"Bokeh: ERROR: Unable to run BokehJS code because BokehJS library is missing\");\n        }\n      }\n    }, 10, root)\n  }\n})(window);",
            "application/vnd.bokehjs_exec.v0+json": ""
          },
          "metadata": {
            "application/vnd.bokehjs_exec.v0+json": {
              "id": "p1211"
            }
          },
          "output_type": "display_data"
        }
      ],
      "source": [
        "\n",
        "p = figure(x_range=data.iloc[:,0], width=800, height=600, title=\"Top Rated Books with more than 1000 Customers Rating\", toolbar_location=None, tools=\"\")\n",
        "\n",
        "p.vbar(x=data.iloc[:,0], top=data.iloc[:,2], width=0.9)\n",
        "\n",
        "p.xgrid.grid_line_color = None\n",
        "p.y_range.start = 0\n",
        "p.xaxis.major_label_orientation = math.pi/2\n",
        "\n",
        "show(p)\n",
        "\n"
      ]
    },
    {
      "cell_type": "markdown",
      "metadata": {
        "id": "DU5NsLqD-u-I"
      },
      "source": [
        "\n",
        "\n",
        "À partir de la sortie ci-dessus, vous pouvez observer que les trois livres les mieux notés avec plus de 1000 évaluations de clients sont Inner Engineering: A Yogi's Guide to Joy, Bhagavad-Gita (Hindi) et The Alchemist.\n"
      ]
    },
    {
      "cell_type": "code",
      "execution_count": null,
      "metadata": {
        "colab": {
          "base_uri": "https://localhost:8080/",
          "height": 634
        },
        "id": "VwYqfqL_-wHu",
        "outputId": "855b9b77-d5ae-41c8-fa68-d7723047d673"
      },
      "outputs": [
        {
          "name": "stderr",
          "output_type": "stream",
          "text": [
            "BokehUserWarning: ColumnDataSource's columns must be of the same length. Current lengths: ('top', 15), ('x', 18)\n"
          ]
        },
        {
          "data": {
            "application/javascript": "(function(root) {\n  function now() {\n    return new Date();\n  }\n\n  const force = true;\n\n  if (typeof root._bokeh_onload_callbacks === \"undefined\" || force === true) {\n    root._bokeh_onload_callbacks = [];\n    root._bokeh_is_loading = undefined;\n  }\n\nconst JS_MIME_TYPE = 'application/javascript';\n  const HTML_MIME_TYPE = 'text/html';\n  const EXEC_MIME_TYPE = 'application/vnd.bokehjs_exec.v0+json';\n  const CLASS_NAME = 'output_bokeh rendered_html';\n\n  /**\n   * Render data to the DOM node\n   */\n  function render(props, node) {\n    const script = document.createElement(\"script\");\n    node.appendChild(script);\n  }\n\n  /**\n   * Handle when an output is cleared or removed\n   */\n  function handleClearOutput(event, handle) {\n    function drop(id) {\n      const view = Bokeh.index.get_by_id(id)\n      if (view != null) {\n        view.model.document.clear()\n        Bokeh.index.delete(view)\n      }\n    }\n\n    const cell = handle.cell;\n\n    const id = cell.output_area._bokeh_element_id;\n    const server_id = cell.output_area._bokeh_server_id;\n\n    // Clean up Bokeh references\n    if (id != null) {\n      drop(id)\n    }\n\n    if (server_id !== undefined) {\n      // Clean up Bokeh references\n      const cmd_clean = \"from bokeh.io.state import curstate; print(curstate().uuid_to_server['\" + server_id + \"'].get_sessions()[0].document.roots[0]._id)\";\n      cell.notebook.kernel.execute(cmd_clean, {\n        iopub: {\n          output: function(msg) {\n            const id = msg.content.text.trim()\n            drop(id)\n          }\n        }\n      });\n      // Destroy server and session\n      const cmd_destroy = \"import bokeh.io.notebook as ion; ion.destroy_server('\" + server_id + \"')\";\n      cell.notebook.kernel.execute(cmd_destroy);\n    }\n  }\n\n  /**\n   * Handle when a new output is added\n   */\n  function handleAddOutput(event, handle) {\n    const output_area = handle.output_area;\n    const output = handle.output;\n\n    // limit handleAddOutput to display_data with EXEC_MIME_TYPE content only\n    if ((output.output_type != \"display_data\") || (!Object.prototype.hasOwnProperty.call(output.data, EXEC_MIME_TYPE))) {\n      return\n    }\n\n    const toinsert = output_area.element.find(\".\" + CLASS_NAME.split(' ')[0]);\n\n    if (output.metadata[EXEC_MIME_TYPE][\"id\"] !== undefined) {\n      toinsert[toinsert.length - 1].firstChild.textContent = output.data[JS_MIME_TYPE];\n      // store reference to embed id on output_area\n      output_area._bokeh_element_id = output.metadata[EXEC_MIME_TYPE][\"id\"];\n    }\n    if (output.metadata[EXEC_MIME_TYPE][\"server_id\"] !== undefined) {\n      const bk_div = document.createElement(\"div\");\n      bk_div.innerHTML = output.data[HTML_MIME_TYPE];\n      const script_attrs = bk_div.children[0].attributes;\n      for (let i = 0; i < script_attrs.length; i++) {\n        toinsert[toinsert.length - 1].firstChild.setAttribute(script_attrs[i].name, script_attrs[i].value);\n        toinsert[toinsert.length - 1].firstChild.textContent = bk_div.children[0].textContent\n      }\n      // store reference to server id on output_area\n      output_area._bokeh_server_id = output.metadata[EXEC_MIME_TYPE][\"server_id\"];\n    }\n  }\n\n  function register_renderer(events, OutputArea) {\n\n    function append_mime(data, metadata, element) {\n      // create a DOM node to render to\n      const toinsert = this.create_output_subarea(\n        metadata,\n        CLASS_NAME,\n        EXEC_MIME_TYPE\n      );\n      this.keyboard_manager.register_events(toinsert);\n      // Render to node\n      const props = {data: data, metadata: metadata[EXEC_MIME_TYPE]};\n      render(props, toinsert[toinsert.length - 1]);\n      element.append(toinsert);\n      return toinsert\n    }\n\n    /* Handle when an output is cleared or removed */\n    events.on('clear_output.CodeCell', handleClearOutput);\n    events.on('delete.Cell', handleClearOutput);\n\n    /* Handle when a new output is added */\n    events.on('output_added.OutputArea', handleAddOutput);\n\n    /**\n     * Register the mime type and append_mime function with output_area\n     */\n    OutputArea.prototype.register_mime_type(EXEC_MIME_TYPE, append_mime, {\n      /* Is output safe? */\n      safe: true,\n      /* Index of renderer in `output_area.display_order` */\n      index: 0\n    });\n  }\n\n  // register the mime type if in Jupyter Notebook environment and previously unregistered\n  if (root.Jupyter !== undefined) {\n    const events = require('base/js/events');\n    const OutputArea = require('notebook/js/outputarea').OutputArea;\n\n    if (OutputArea.prototype.mime_types().indexOf(EXEC_MIME_TYPE) == -1) {\n      register_renderer(events, OutputArea);\n    }\n  }\n  if (typeof (root._bokeh_timeout) === \"undefined\" || force === true) {\n    root._bokeh_timeout = Date.now() + 5000;\n    root._bokeh_failed_load = false;\n  }\n\n  const NB_LOAD_WARNING = {'data': {'text/html':\n     \"<div style='background-color: #fdd'>\\n\"+\n     \"<p>\\n\"+\n     \"BokehJS does not appear to have successfully loaded. If loading BokehJS from CDN, this \\n\"+\n     \"may be due to a slow or bad network connection. Possible fixes:\\n\"+\n     \"</p>\\n\"+\n     \"<ul>\\n\"+\n     \"<li>re-rerun `output_notebook()` to attempt to load from CDN again, or</li>\\n\"+\n     \"<li>use INLINE resources instead, as so:</li>\\n\"+\n     \"</ul>\\n\"+\n     \"<code>\\n\"+\n     \"from bokeh.resources import INLINE\\n\"+\n     \"output_notebook(resources=INLINE)\\n\"+\n     \"</code>\\n\"+\n     \"</div>\"}};\n\n  function display_loaded() {\n    const el = document.getElementById(null);\n    if (el != null) {\n      el.textContent = \"BokehJS is loading...\";\n    }\n    if (root.Bokeh !== undefined) {\n      if (el != null) {\n        el.textContent = \"BokehJS \" + root.Bokeh.version + \" successfully loaded.\";\n      }\n    } else if (Date.now() < root._bokeh_timeout) {\n      setTimeout(display_loaded, 100)\n    }\n  }\n\n  function run_callbacks() {\n    try {\n      root._bokeh_onload_callbacks.forEach(function(callback) {\n        if (callback != null)\n          callback();\n      });\n    } finally {\n      delete root._bokeh_onload_callbacks\n    }\n    console.debug(\"Bokeh: all callbacks have finished\");\n  }\n\n  function load_libs(css_urls, js_urls, callback) {\n    if (css_urls == null) css_urls = [];\n    if (js_urls == null) js_urls = [];\n\n    root._bokeh_onload_callbacks.push(callback);\n    if (root._bokeh_is_loading > 0) {\n      console.debug(\"Bokeh: BokehJS is being loaded, scheduling callback at\", now());\n      return null;\n    }\n    if (js_urls == null || js_urls.length === 0) {\n      run_callbacks();\n      return null;\n    }\n    console.debug(\"Bokeh: BokehJS not loaded, scheduling load and callback at\", now());\n    root._bokeh_is_loading = css_urls.length + js_urls.length;\n\n    function on_load() {\n      root._bokeh_is_loading--;\n      if (root._bokeh_is_loading === 0) {\n        console.debug(\"Bokeh: all BokehJS libraries/stylesheets loaded\");\n        run_callbacks()\n      }\n    }\n\n    function on_error(url) {\n      console.error(\"failed to load \" + url);\n    }\n\n    for (let i = 0; i < css_urls.length; i++) {\n      const url = css_urls[i];\n      const element = document.createElement(\"link\");\n      element.onload = on_load;\n      element.onerror = on_error.bind(null, url);\n      element.rel = \"stylesheet\";\n      element.type = \"text/css\";\n      element.href = url;\n      console.debug(\"Bokeh: injecting link tag for BokehJS stylesheet: \", url);\n      document.body.appendChild(element);\n    }\n\n    for (let i = 0; i < js_urls.length; i++) {\n      const url = js_urls[i];\n      const element = document.createElement('script');\n      element.onload = on_load;\n      element.onerror = on_error.bind(null, url);\n      element.async = false;\n      element.src = url;\n      console.debug(\"Bokeh: injecting script tag for BokehJS library: \", url);\n      document.head.appendChild(element);\n    }\n  };\n\n  function inject_raw_css(css) {\n    const element = document.createElement(\"style\");\n    element.appendChild(document.createTextNode(css));\n    document.body.appendChild(element);\n  }\n\n  const js_urls = [\"https://cdn.bokeh.org/bokeh/release/bokeh-3.3.0.min.js\", \"https://cdn.bokeh.org/bokeh/release/bokeh-gl-3.3.0.min.js\", \"https://cdn.bokeh.org/bokeh/release/bokeh-widgets-3.3.0.min.js\", \"https://cdn.bokeh.org/bokeh/release/bokeh-tables-3.3.0.min.js\", \"https://cdn.bokeh.org/bokeh/release/bokeh-mathjax-3.3.0.min.js\"];\n  const css_urls = [];\n\n  const inline_js = [    function(Bokeh) {\n      Bokeh.set_log_level(\"info\");\n    },\nfunction(Bokeh) {\n    }\n  ];\n\n  function run_inline_js() {\n    if (root.Bokeh !== undefined || force === true) {\n          for (let i = 0; i < inline_js.length; i++) {\n      inline_js[i].call(root, root.Bokeh);\n    }\n} else if (Date.now() < root._bokeh_timeout) {\n      setTimeout(run_inline_js, 100);\n    } else if (!root._bokeh_failed_load) {\n      console.log(\"Bokeh: BokehJS failed to load within specified timeout.\");\n      root._bokeh_failed_load = true;\n    } else if (force !== true) {\n      const cell = $(document.getElementById(null)).parents('.cell').data().cell;\n      cell.output_area.append_execute_result(NB_LOAD_WARNING)\n    }\n  }\n\n  if (root._bokeh_is_loading === 0) {\n    console.debug(\"Bokeh: BokehJS loaded, going straight to plotting\");\n    run_inline_js();\n  } else {\n    load_libs(css_urls, js_urls, function() {\n      console.debug(\"Bokeh: BokehJS plotting callback run at\", now());\n      run_inline_js();\n    });\n  }\n}(window));",
            "application/vnd.bokehjs_load.v0+json": ""
          },
          "metadata": {},
          "output_type": "display_data"
        },
        {
          "data": {
            "text/html": [
              "\n",
              "  <div id=\"fdb37803-ae0b-4d23-871b-7677f4fa4460\" data-root-id=\"p1247\" style=\"display: contents;\"></div>\n"
            ]
          },
          "metadata": {},
          "output_type": "display_data"
        },
        {
          "data": {
            "application/javascript": "(function(root) {\n  function embed_document(root) {\n  const docs_json = {\"be77c052-e7a5-4034-ac02-fd7d640c1e94\":{\"version\":\"3.3.0\",\"title\":\"Bokeh Application\",\"roots\":[{\"type\":\"object\",\"name\":\"Figure\",\"id\":\"p1247\",\"attributes\":{\"width\":800,\"x_range\":{\"type\":\"object\",\"name\":\"FactorRange\",\"id\":\"p1257\",\"attributes\":{\"factors\":[\"Rudraksh Tripathi Punya Pratap, Pooja Yadav, Anuksha Arora Sunil Rathore, Chanchal Sharma\",\"Wonder House Books\",\"MTG Editorial Board\",\"M Laxmikanth\",\"Robert Greene\",\"R. S Aggarwal\",\"Akshat Gupta\",\"Oswaal Editorial Board\",\"Ankit Bhati\",\"James Clear\",\"Jeff Kinney\",\"Dr. Manish Raj (MR. Sir)\",\"Pankaj Sijairya\",\"J Sai Deepak\",\"Robert T. Kiyosaki\",\"KVS Madaan\",\"Dale Carnegie\",\"Ichiro Kishimi and Fumitake Koga\"]}},\"y_range\":{\"type\":\"object\",\"name\":\"DataRange1d\",\"id\":\"p1249\",\"attributes\":{\"start\":0}},\"x_scale\":{\"type\":\"object\",\"name\":\"CategoricalScale\",\"id\":\"p1258\"},\"y_scale\":{\"type\":\"object\",\"name\":\"LinearScale\",\"id\":\"p1259\"},\"title\":{\"type\":\"object\",\"name\":\"Title\",\"id\":\"p1250\",\"attributes\":{\"text\":\"Top Rated Books with more than 1000 Customers Rating\"}},\"renderers\":[{\"type\":\"object\",\"name\":\"GlyphRenderer\",\"id\":\"p1276\",\"attributes\":{\"data_source\":{\"type\":\"object\",\"name\":\"ColumnDataSource\",\"id\":\"p1270\",\"attributes\":{\"selected\":{\"type\":\"object\",\"name\":\"Selection\",\"id\":\"p1271\",\"attributes\":{\"indices\":[],\"line_indices\":[]}},\"selection_policy\":{\"type\":\"object\",\"name\":\"UnionRenderers\",\"id\":\"p1272\"},\"data\":{\"type\":\"map\",\"entries\":[[\"x\",{\"type\":\"ndarray\",\"array\":[\"Rudraksh Tripathi Punya Pratap, Pooja Yadav, Anuksha Arora Sunil Rathore, Chanchal Sharma\",\"Wonder House Books\",\"MTG Editorial Board\",\"M Laxmikanth\",\"Robert Greene\",\"R. S Aggarwal\",\"Akshat Gupta\",\"Oswaal Editorial Board\",\"Ankit Bhati\",\"James Clear\",\"Jeff Kinney\",\"Dr. Manish Raj (MR. Sir)\",\"Pankaj Sijairya\",\"J Sai Deepak\",\"Robert T. Kiyosaki\",\"KVS Madaan\",\"Dale Carnegie\",\"Ichiro Kishimi and Fumitake Koga\"],\"shape\":[18],\"dtype\":\"object\",\"order\":\"little\"}],[\"top\",{\"type\":\"ndarray\",\"array\":{\"type\":\"bytes\",\"data\":\"mpmZmZmZE0AzMzMzMzMTQDMzMzMzMxNAzczMzMzMEkBmZmZmZmYSQGZmZmZmZhJAZmZmZmZmEkBmZmZmZmYSQGZmZmZmZhJAZmZmZmZmEkBmZmZmZmYSQGZmZmZmZhJAZmZmZmZmEkAAAAAAAAASQAAAAAAAABJA\"},\"shape\":[15],\"dtype\":\"float64\",\"order\":\"little\"}]]}}},\"view\":{\"type\":\"object\",\"name\":\"CDSView\",\"id\":\"p1277\",\"attributes\":{\"filter\":{\"type\":\"object\",\"name\":\"AllIndices\",\"id\":\"p1278\"}}},\"glyph\":{\"type\":\"object\",\"name\":\"VBar\",\"id\":\"p1273\",\"attributes\":{\"x\":{\"type\":\"field\",\"field\":\"x\"},\"width\":{\"type\":\"value\",\"value\":0.9},\"top\":{\"type\":\"field\",\"field\":\"top\"},\"line_color\":{\"type\":\"value\",\"value\":\"#1f77b4\"},\"fill_color\":{\"type\":\"value\",\"value\":\"#1f77b4\"}}},\"nonselection_glyph\":{\"type\":\"object\",\"name\":\"VBar\",\"id\":\"p1274\",\"attributes\":{\"x\":{\"type\":\"field\",\"field\":\"x\"},\"width\":{\"type\":\"value\",\"value\":0.9},\"top\":{\"type\":\"field\",\"field\":\"top\"},\"line_color\":{\"type\":\"value\",\"value\":\"#1f77b4\"},\"line_alpha\":{\"type\":\"value\",\"value\":0.1},\"fill_color\":{\"type\":\"value\",\"value\":\"#1f77b4\"},\"fill_alpha\":{\"type\":\"value\",\"value\":0.1},\"hatch_alpha\":{\"type\":\"value\",\"value\":0.1}}},\"muted_glyph\":{\"type\":\"object\",\"name\":\"VBar\",\"id\":\"p1275\",\"attributes\":{\"x\":{\"type\":\"field\",\"field\":\"x\"},\"width\":{\"type\":\"value\",\"value\":0.9},\"top\":{\"type\":\"field\",\"field\":\"top\"},\"line_color\":{\"type\":\"value\",\"value\":\"#1f77b4\"},\"line_alpha\":{\"type\":\"value\",\"value\":0.2},\"fill_color\":{\"type\":\"value\",\"value\":\"#1f77b4\"},\"fill_alpha\":{\"type\":\"value\",\"value\":0.2},\"hatch_alpha\":{\"type\":\"value\",\"value\":0.2}}}}}],\"toolbar\":{\"type\":\"object\",\"name\":\"Toolbar\",\"id\":\"p1256\"},\"toolbar_location\":null,\"left\":[{\"type\":\"object\",\"name\":\"LinearAxis\",\"id\":\"p1265\",\"attributes\":{\"ticker\":{\"type\":\"object\",\"name\":\"BasicTicker\",\"id\":\"p1266\",\"attributes\":{\"mantissas\":[1,2,5]}},\"formatter\":{\"type\":\"object\",\"name\":\"BasicTickFormatter\",\"id\":\"p1267\"},\"major_label_policy\":{\"type\":\"object\",\"name\":\"AllLabels\",\"id\":\"p1268\"}}}],\"below\":[{\"type\":\"object\",\"name\":\"CategoricalAxis\",\"id\":\"p1260\",\"attributes\":{\"ticker\":{\"type\":\"object\",\"name\":\"CategoricalTicker\",\"id\":\"p1261\"},\"formatter\":{\"type\":\"object\",\"name\":\"CategoricalTickFormatter\",\"id\":\"p1262\"},\"major_label_orientation\":1.5707963267948966,\"major_label_policy\":{\"type\":\"object\",\"name\":\"AllLabels\",\"id\":\"p1263\"}}}],\"center\":[{\"type\":\"object\",\"name\":\"Grid\",\"id\":\"p1264\",\"attributes\":{\"axis\":{\"id\":\"p1260\"},\"grid_line_color\":null}},{\"type\":\"object\",\"name\":\"Grid\",\"id\":\"p1269\",\"attributes\":{\"dimension\":1,\"axis\":{\"id\":\"p1265\"}}}]}}]}};\n  const render_items = [{\"docid\":\"be77c052-e7a5-4034-ac02-fd7d640c1e94\",\"roots\":{\"p1247\":\"fdb37803-ae0b-4d23-871b-7677f4fa4460\"},\"root_ids\":[\"p1247\"]}];\n  root.Bokeh.embed.embed_items_notebook(docs_json, render_items);\n  }\n  if (root.Bokeh !== undefined) {\n    embed_document(root);\n  } else {\n    let attempts = 0;\n    const timer = setInterval(function(root) {\n      if (root.Bokeh !== undefined) {\n        clearInterval(timer);\n        embed_document(root);\n      } else {\n        attempts++;\n        if (attempts > 100) {\n          clearInterval(timer);\n          console.log(\"Bokeh: ERROR: Unable to run BokehJS code because BokehJS library is missing\");\n        }\n      }\n    }, 10, root)\n  }\n})(window);",
            "application/vnd.bokehjs_exec.v0+json": ""
          },
          "metadata": {
            "application/vnd.bokehjs_exec.v0+json": {
              "id": "p1247"
            }
          },
          "output_type": "display_data"
        }
      ],
      "source": [
        "\n",
        "\n",
        "p = figure(x_range=data2.iloc[:,1], width=800, height=600, title=\"Top Rated Books with more than 1000 Customers Rating\", toolbar_location=None, tools=\"\")\n",
        "\n",
        "p.vbar(x=data2.iloc[:,1], top=data.iloc[:,2], width=0.9)\n",
        "\n",
        "p.xgrid.grid_line_color = None\n",
        "p.y_range.start = 0\n",
        "p.xaxis.major_label_orientation = math.pi/2\n",
        "\n",
        "show(p)\n",
        "\n",
        "\n",
        "\n"
      ]
    },
    {
      "cell_type": "markdown",
      "metadata": {
        "id": "2dphI_mj_Bn1"
      },
      "source": [
        "Le graphique ci-dessus montre les 10 meilleurs auteurs par ordre décroissant qui ont les livres les mieux notés avec plus de 1000 évaluations de clients, à savoir Sadhguru, AC Bhaktivedanta et Paulo Coelho."
      ]
    },
    {
      "cell_type": "markdown",
      "metadata": {
        "id": "sZ0B7SnX_FNk"
      },
      "source": [
        "# Auteurs vs livres les mieux notés par les clients\n",
        "\n",
        "\n",
        "Bien que vous ayez déjà vu les livres et les auteurs les mieux notés, il serait encore plus convaincant et crédible de conclure le meilleur auteur et le livre en fonction du nombre de clients qui ont évalué ce livre.\n",
        "\n",
        "Alors, découvrons rapidement cela.\n"
      ]
    },
    {
      "cell_type": "code",
      "execution_count": null,
      "metadata": {
        "colab": {
          "base_uri": "https://localhost:8080/",
          "height": 677
        },
        "id": "q9INJzEP_Iwa",
        "outputId": "921b5bfa-0812-497e-bf06-7b9fb12565b8"
      },
      "outputs": [
        {
          "data": {
            "text/html": [
              "\n",
              "  <div id=\"df-f9f38272-f469-492f-b3af-06b0da349c57\" class=\"colab-df-container\">\n",
              "    <div>\n",
              "<style scoped>\n",
              "    .dataframe tbody tr th:only-of-type {\n",
              "        vertical-align: middle;\n",
              "    }\n",
              "\n",
              "    .dataframe tbody tr th {\n",
              "        vertical-align: top;\n",
              "    }\n",
              "\n",
              "    .dataframe thead th {\n",
              "        text-align: right;\n",
              "    }\n",
              "</style>\n",
              "<table border=\"1\" class=\"dataframe\">\n",
              "  <thead>\n",
              "    <tr style=\"text-align: right;\">\n",
              "      <th></th>\n",
              "      <th>Book Name</th>\n",
              "      <th>Author</th>\n",
              "      <th>Rating</th>\n",
              "      <th>Customers_Rated</th>\n",
              "      <th>Price</th>\n",
              "    </tr>\n",
              "  </thead>\n",
              "  <tbody>\n",
              "    <tr>\n",
              "      <th>36</th>\n",
              "      <td>The Alchemist</td>\n",
              "      <td>Paulo Coelho</td>\n",
              "      <td>4.6</td>\n",
              "      <td>141655.0</td>\n",
              "      <td>246</td>\n",
              "    </tr>\n",
              "    <tr>\n",
              "      <th>35</th>\n",
              "      <td>The Subtle Art of Not Giving a F*ck: A Counter...</td>\n",
              "      <td>Mark Manson</td>\n",
              "      <td>4.5</td>\n",
              "      <td>137985.0</td>\n",
              "      <td>203</td>\n",
              "    </tr>\n",
              "    <tr>\n",
              "      <th>18</th>\n",
              "      <td>How to Win Friends and Influence People</td>\n",
              "      <td>Dale Carnegie</td>\n",
              "      <td>4.5</td>\n",
              "      <td>89342.0</td>\n",
              "      <td>89</td>\n",
              "    </tr>\n",
              "    <tr>\n",
              "      <th>3</th>\n",
              "      <td>Atomic Habits: the life-changing million-copy ...</td>\n",
              "      <td>James Clear</td>\n",
              "      <td>4.6</td>\n",
              "      <td>85271.0</td>\n",
              "      <td>467</td>\n",
              "    </tr>\n",
              "    <tr>\n",
              "      <th>7</th>\n",
              "      <td>The Power of Your Subconscious Mind</td>\n",
              "      <td>Joseph Murphy</td>\n",
              "      <td>4.5</td>\n",
              "      <td>78395.0</td>\n",
              "      <td>104</td>\n",
              "    </tr>\n",
              "    <tr>\n",
              "      <th>22</th>\n",
              "      <td>The Power of Your Subconscious Mind</td>\n",
              "      <td>Joseph Murphy</td>\n",
              "      <td>4.5</td>\n",
              "      <td>78395.0</td>\n",
              "      <td>99</td>\n",
              "    </tr>\n",
              "    <tr>\n",
              "      <th>9</th>\n",
              "      <td>My First Library: Boxset of 10 Board Books for...</td>\n",
              "      <td>Wonder House Books</td>\n",
              "      <td>4.5</td>\n",
              "      <td>73359.0</td>\n",
              "      <td>398</td>\n",
              "    </tr>\n",
              "    <tr>\n",
              "      <th>2</th>\n",
              "      <td>The Psychology Of Money</td>\n",
              "      <td>Morgan Housel</td>\n",
              "      <td>4.6</td>\n",
              "      <td>55247.0</td>\n",
              "      <td>230</td>\n",
              "    </tr>\n",
              "    <tr>\n",
              "      <th>4</th>\n",
              "      <td>Ikigai</td>\n",
              "      <td>Francesc Miralles</td>\n",
              "      <td>4.6</td>\n",
              "      <td>50938.0</td>\n",
              "      <td>266</td>\n",
              "    </tr>\n",
              "    <tr>\n",
              "      <th>37</th>\n",
              "      <td>The 5 Am Club</td>\n",
              "      <td>Robin Sharma</td>\n",
              "      <td>4.5</td>\n",
              "      <td>30211.0</td>\n",
              "      <td>202</td>\n",
              "    </tr>\n",
              "    <tr>\n",
              "      <th>32</th>\n",
              "      <td>Thinking, Fast &amp; Slow (L)</td>\n",
              "      <td>Daniel Kahneman</td>\n",
              "      <td>4.5</td>\n",
              "      <td>28142.0</td>\n",
              "      <td>268</td>\n",
              "    </tr>\n",
              "    <tr>\n",
              "      <th>13</th>\n",
              "      <td>Rich Dad Poor Dad: 25th Anniversary Edit: (25t...</td>\n",
              "      <td>Robert T. Kiyosaki</td>\n",
              "      <td>4.5</td>\n",
              "      <td>26242.0</td>\n",
              "      <td>361</td>\n",
              "    </tr>\n",
              "    <tr>\n",
              "      <th>23</th>\n",
              "      <td>My First Book of Patterns Pencil Control: Prac...</td>\n",
              "      <td>Wonder House Books</td>\n",
              "      <td>4.4</td>\n",
              "      <td>25941.0</td>\n",
              "      <td>88</td>\n",
              "    </tr>\n",
              "    <tr>\n",
              "      <th>10</th>\n",
              "      <td>World's Greatest Pack for Personal Growth and ...</td>\n",
              "      <td>Dale Carnegie</td>\n",
              "      <td>4.5</td>\n",
              "      <td>24972.0</td>\n",
              "      <td>288</td>\n",
              "    </tr>\n",
              "    <tr>\n",
              "      <th>39</th>\n",
              "      <td>Tuesdays With Morrie: An old man, a young man,...</td>\n",
              "      <td>Mitch Albom</td>\n",
              "      <td>4.6</td>\n",
              "      <td>23558.0</td>\n",
              "      <td>235</td>\n",
              "    </tr>\n",
              "    <tr>\n",
              "      <th>12</th>\n",
              "      <td>Grandma's Bag of Stories: Collection of 20+ Il...</td>\n",
              "      <td>Murty Sudha</td>\n",
              "      <td>4.6</td>\n",
              "      <td>20146.0</td>\n",
              "      <td>167</td>\n",
              "    </tr>\n",
              "    <tr>\n",
              "      <th>27</th>\n",
              "      <td>THE 48 LAWS OF POWER</td>\n",
              "      <td>Robert Greene</td>\n",
              "      <td>4.6</td>\n",
              "      <td>18031.0</td>\n",
              "      <td>588</td>\n",
              "    </tr>\n",
              "    <tr>\n",
              "      <th>16</th>\n",
              "      <td>Shrimad Bhagwat Geeta Yatharoop</td>\n",
              "      <td>A.C. Bhaktivendanta Swami Prabhupada</td>\n",
              "      <td>4.8</td>\n",
              "      <td>17503.0</td>\n",
              "      <td>278</td>\n",
              "    </tr>\n",
              "    <tr>\n",
              "      <th>45</th>\n",
              "      <td>Rich Dad Poor Dad ( Original &amp; Complete) Hindi</td>\n",
              "      <td>Robert T. Kiyosaki</td>\n",
              "      <td>4.5</td>\n",
              "      <td>15570.0</td>\n",
              "      <td>218</td>\n",
              "    </tr>\n",
              "    <tr>\n",
              "      <th>52</th>\n",
              "      <td>KARMA: A YOGI'S GUIDE TO CRAFTING YOUR DESTINY</td>\n",
              "      <td>Sadhguru</td>\n",
              "      <td>4.7</td>\n",
              "      <td>14690.0</td>\n",
              "      <td>169</td>\n",
              "    </tr>\n",
              "  </tbody>\n",
              "</table>\n",
              "</div>\n",
              "    <div class=\"colab-df-buttons\">\n",
              "\n",
              "  <div class=\"colab-df-container\">\n",
              "    <button class=\"colab-df-convert\" onclick=\"convertToInteractive('df-f9f38272-f469-492f-b3af-06b0da349c57')\"\n",
              "            title=\"Convert this dataframe to an interactive table.\"\n",
              "            style=\"display:none;\">\n",
              "\n",
              "  <svg xmlns=\"http://www.w3.org/2000/svg\" height=\"24px\" viewBox=\"0 -960 960 960\">\n",
              "    <path d=\"M120-120v-720h720v720H120Zm60-500h600v-160H180v160Zm220 220h160v-160H400v160Zm0 220h160v-160H400v160ZM180-400h160v-160H180v160Zm440 0h160v-160H620v160ZM180-180h160v-160H180v160Zm440 0h160v-160H620v160Z\"/>\n",
              "  </svg>\n",
              "    </button>\n",
              "\n",
              "  <style>\n",
              "    .colab-df-container {\n",
              "      display:flex;\n",
              "      gap: 12px;\n",
              "    }\n",
              "\n",
              "    .colab-df-convert {\n",
              "      background-color: #E8F0FE;\n",
              "      border: none;\n",
              "      border-radius: 50%;\n",
              "      cursor: pointer;\n",
              "      display: none;\n",
              "      fill: #1967D2;\n",
              "      height: 32px;\n",
              "      padding: 0 0 0 0;\n",
              "      width: 32px;\n",
              "    }\n",
              "\n",
              "    .colab-df-convert:hover {\n",
              "      background-color: #E2EBFA;\n",
              "      box-shadow: 0px 1px 2px rgba(60, 64, 67, 0.3), 0px 1px 3px 1px rgba(60, 64, 67, 0.15);\n",
              "      fill: #174EA6;\n",
              "    }\n",
              "\n",
              "    .colab-df-buttons div {\n",
              "      margin-bottom: 4px;\n",
              "    }\n",
              "\n",
              "    [theme=dark] .colab-df-convert {\n",
              "      background-color: #3B4455;\n",
              "      fill: #D2E3FC;\n",
              "    }\n",
              "\n",
              "    [theme=dark] .colab-df-convert:hover {\n",
              "      background-color: #434B5C;\n",
              "      box-shadow: 0px 1px 3px 1px rgba(0, 0, 0, 0.15);\n",
              "      filter: drop-shadow(0px 1px 2px rgba(0, 0, 0, 0.3));\n",
              "      fill: #FFFFFF;\n",
              "    }\n",
              "  </style>\n",
              "\n",
              "    <script>\n",
              "      const buttonEl =\n",
              "        document.querySelector('#df-f9f38272-f469-492f-b3af-06b0da349c57 button.colab-df-convert');\n",
              "      buttonEl.style.display =\n",
              "        google.colab.kernel.accessAllowed ? 'block' : 'none';\n",
              "\n",
              "      async function convertToInteractive(key) {\n",
              "        const element = document.querySelector('#df-f9f38272-f469-492f-b3af-06b0da349c57');\n",
              "        const dataTable =\n",
              "          await google.colab.kernel.invokeFunction('convertToInteractive',\n",
              "                                                    [key], {});\n",
              "        if (!dataTable) return;\n",
              "\n",
              "        const docLinkHtml = 'Like what you see? Visit the ' +\n",
              "          '<a target=\"_blank\" href=https://colab.research.google.com/notebooks/data_table.ipynb>data table notebook</a>'\n",
              "          + ' to learn more about interactive tables.';\n",
              "        element.innerHTML = '';\n",
              "        dataTable['output_type'] = 'display_data';\n",
              "        await google.colab.output.renderOutput(dataTable, element);\n",
              "        const docLink = document.createElement('div');\n",
              "        docLink.innerHTML = docLinkHtml;\n",
              "        element.appendChild(docLink);\n",
              "      }\n",
              "    </script>\n",
              "  </div>\n",
              "\n",
              "\n",
              "<div id=\"df-92e26db7-b52c-4fe1-a3d0-275a02efd011\">\n",
              "  <button class=\"colab-df-quickchart\" onclick=\"quickchart('df-92e26db7-b52c-4fe1-a3d0-275a02efd011')\"\n",
              "            title=\"Suggest charts.\"\n",
              "            style=\"display:none;\">\n",
              "\n",
              "<svg xmlns=\"http://www.w3.org/2000/svg\" height=\"24px\"viewBox=\"0 0 24 24\"\n",
              "     width=\"24px\">\n",
              "    <g>\n",
              "        <path d=\"M19 3H5c-1.1 0-2 .9-2 2v14c0 1.1.9 2 2 2h14c1.1 0 2-.9 2-2V5c0-1.1-.9-2-2-2zM9 17H7v-7h2v7zm4 0h-2V7h2v10zm4 0h-2v-4h2v4z\"/>\n",
              "    </g>\n",
              "</svg>\n",
              "  </button>\n",
              "\n",
              "<style>\n",
              "  .colab-df-quickchart {\n",
              "      --bg-color: #E8F0FE;\n",
              "      --fill-color: #1967D2;\n",
              "      --hover-bg-color: #E2EBFA;\n",
              "      --hover-fill-color: #174EA6;\n",
              "      --disabled-fill-color: #AAA;\n",
              "      --disabled-bg-color: #DDD;\n",
              "  }\n",
              "\n",
              "  [theme=dark] .colab-df-quickchart {\n",
              "      --bg-color: #3B4455;\n",
              "      --fill-color: #D2E3FC;\n",
              "      --hover-bg-color: #434B5C;\n",
              "      --hover-fill-color: #FFFFFF;\n",
              "      --disabled-bg-color: #3B4455;\n",
              "      --disabled-fill-color: #666;\n",
              "  }\n",
              "\n",
              "  .colab-df-quickchart {\n",
              "    background-color: var(--bg-color);\n",
              "    border: none;\n",
              "    border-radius: 50%;\n",
              "    cursor: pointer;\n",
              "    display: none;\n",
              "    fill: var(--fill-color);\n",
              "    height: 32px;\n",
              "    padding: 0;\n",
              "    width: 32px;\n",
              "  }\n",
              "\n",
              "  .colab-df-quickchart:hover {\n",
              "    background-color: var(--hover-bg-color);\n",
              "    box-shadow: 0 1px 2px rgba(60, 64, 67, 0.3), 0 1px 3px 1px rgba(60, 64, 67, 0.15);\n",
              "    fill: var(--button-hover-fill-color);\n",
              "  }\n",
              "\n",
              "  .colab-df-quickchart-complete:disabled,\n",
              "  .colab-df-quickchart-complete:disabled:hover {\n",
              "    background-color: var(--disabled-bg-color);\n",
              "    fill: var(--disabled-fill-color);\n",
              "    box-shadow: none;\n",
              "  }\n",
              "\n",
              "  .colab-df-spinner {\n",
              "    border: 2px solid var(--fill-color);\n",
              "    border-color: transparent;\n",
              "    border-bottom-color: var(--fill-color);\n",
              "    animation:\n",
              "      spin 1s steps(1) infinite;\n",
              "  }\n",
              "\n",
              "  @keyframes spin {\n",
              "    0% {\n",
              "      border-color: transparent;\n",
              "      border-bottom-color: var(--fill-color);\n",
              "      border-left-color: var(--fill-color);\n",
              "    }\n",
              "    20% {\n",
              "      border-color: transparent;\n",
              "      border-left-color: var(--fill-color);\n",
              "      border-top-color: var(--fill-color);\n",
              "    }\n",
              "    30% {\n",
              "      border-color: transparent;\n",
              "      border-left-color: var(--fill-color);\n",
              "      border-top-color: var(--fill-color);\n",
              "      border-right-color: var(--fill-color);\n",
              "    }\n",
              "    40% {\n",
              "      border-color: transparent;\n",
              "      border-right-color: var(--fill-color);\n",
              "      border-top-color: var(--fill-color);\n",
              "    }\n",
              "    60% {\n",
              "      border-color: transparent;\n",
              "      border-right-color: var(--fill-color);\n",
              "    }\n",
              "    80% {\n",
              "      border-color: transparent;\n",
              "      border-right-color: var(--fill-color);\n",
              "      border-bottom-color: var(--fill-color);\n",
              "    }\n",
              "    90% {\n",
              "      border-color: transparent;\n",
              "      border-bottom-color: var(--fill-color);\n",
              "    }\n",
              "  }\n",
              "</style>\n",
              "\n",
              "  <script>\n",
              "    async function quickchart(key) {\n",
              "      const quickchartButtonEl =\n",
              "        document.querySelector('#' + key + ' button');\n",
              "      quickchartButtonEl.disabled = true;  // To prevent multiple clicks.\n",
              "      quickchartButtonEl.classList.add('colab-df-spinner');\n",
              "      try {\n",
              "        const charts = await google.colab.kernel.invokeFunction(\n",
              "            'suggestCharts', [key], {});\n",
              "      } catch (error) {\n",
              "        console.error('Error during call to suggestCharts:', error);\n",
              "      }\n",
              "      quickchartButtonEl.classList.remove('colab-df-spinner');\n",
              "      quickchartButtonEl.classList.add('colab-df-quickchart-complete');\n",
              "    }\n",
              "    (() => {\n",
              "      let quickchartButtonEl =\n",
              "        document.querySelector('#df-92e26db7-b52c-4fe1-a3d0-275a02efd011 button');\n",
              "      quickchartButtonEl.style.display =\n",
              "        google.colab.kernel.accessAllowed ? 'block' : 'none';\n",
              "    })();\n",
              "  </script>\n",
              "</div>\n",
              "    </div>\n",
              "  </div>\n"
            ],
            "text/plain": [
              "                                            Book Name  \\\n",
              "36                                      The Alchemist   \n",
              "35  The Subtle Art of Not Giving a F*ck: A Counter...   \n",
              "18            How to Win Friends and Influence People   \n",
              "3   Atomic Habits: the life-changing million-copy ...   \n",
              "7                 The Power of Your Subconscious Mind   \n",
              "22                The Power of Your Subconscious Mind   \n",
              "9   My First Library: Boxset of 10 Board Books for...   \n",
              "2                             The Psychology Of Money   \n",
              "4                                              Ikigai   \n",
              "37                                      The 5 Am Club   \n",
              "32                          Thinking, Fast & Slow (L)   \n",
              "13  Rich Dad Poor Dad: 25th Anniversary Edit: (25t...   \n",
              "23  My First Book of Patterns Pencil Control: Prac...   \n",
              "10  World's Greatest Pack for Personal Growth and ...   \n",
              "39  Tuesdays With Morrie: An old man, a young man,...   \n",
              "12  Grandma's Bag of Stories: Collection of 20+ Il...   \n",
              "27                               THE 48 LAWS OF POWER   \n",
              "16                    Shrimad Bhagwat Geeta Yatharoop   \n",
              "45     Rich Dad Poor Dad ( Original & Complete) Hindi   \n",
              "52     KARMA: A YOGI'S GUIDE TO CRAFTING YOUR DESTINY   \n",
              "\n",
              "                                  Author  Rating  Customers_Rated  Price  \n",
              "36                          Paulo Coelho     4.6         141655.0    246  \n",
              "35                           Mark Manson     4.5         137985.0    203  \n",
              "18                         Dale Carnegie     4.5          89342.0     89  \n",
              "3                            James Clear     4.6          85271.0    467  \n",
              "7                          Joseph Murphy     4.5          78395.0    104  \n",
              "22                         Joseph Murphy     4.5          78395.0     99  \n",
              "9                     Wonder House Books     4.5          73359.0    398  \n",
              "2                          Morgan Housel     4.6          55247.0    230  \n",
              "4                      Francesc Miralles     4.6          50938.0    266  \n",
              "37                          Robin Sharma     4.5          30211.0    202  \n",
              "32                       Daniel Kahneman     4.5          28142.0    268  \n",
              "13                    Robert T. Kiyosaki     4.5          26242.0    361  \n",
              "23                    Wonder House Books     4.4          25941.0     88  \n",
              "10                         Dale Carnegie     4.5          24972.0    288  \n",
              "39                           Mitch Albom     4.6          23558.0    235  \n",
              "12                           Murty Sudha     4.6          20146.0    167  \n",
              "27                         Robert Greene     4.6          18031.0    588  \n",
              "16  A.C. Bhaktivendanta Swami Prabhupada     4.8          17503.0    278  \n",
              "45                    Robert T. Kiyosaki     4.5          15570.0    218  \n",
              "52                              Sadhguru     4.7          14690.0    169  "
            ]
          },
          "execution_count": 74,
          "metadata": {},
          "output_type": "execute_result"
        }
      ],
      "source": [
        "data = df.sort_values([\"Customers_Rated\"], axis=0, ascending=False)[:20]\n",
        "\n",
        "data"
      ]
    },
    {
      "cell_type": "code",
      "execution_count": null,
      "metadata": {
        "colab": {
          "base_uri": "https://localhost:8080/",
          "height": 717
        },
        "id": "dw-BZ_332b8N",
        "outputId": "de82071e-3d3f-419e-e2ef-fd637da7a45b"
      },
      "outputs": [
        {
          "data": {
            "application/javascript": "(function(root) {\n  function now() {\n    return new Date();\n  }\n\n  const force = true;\n\n  if (typeof root._bokeh_onload_callbacks === \"undefined\" || force === true) {\n    root._bokeh_onload_callbacks = [];\n    root._bokeh_is_loading = undefined;\n  }\n\nconst JS_MIME_TYPE = 'application/javascript';\n  const HTML_MIME_TYPE = 'text/html';\n  const EXEC_MIME_TYPE = 'application/vnd.bokehjs_exec.v0+json';\n  const CLASS_NAME = 'output_bokeh rendered_html';\n\n  /**\n   * Render data to the DOM node\n   */\n  function render(props, node) {\n    const script = document.createElement(\"script\");\n    node.appendChild(script);\n  }\n\n  /**\n   * Handle when an output is cleared or removed\n   */\n  function handleClearOutput(event, handle) {\n    function drop(id) {\n      const view = Bokeh.index.get_by_id(id)\n      if (view != null) {\n        view.model.document.clear()\n        Bokeh.index.delete(view)\n      }\n    }\n\n    const cell = handle.cell;\n\n    const id = cell.output_area._bokeh_element_id;\n    const server_id = cell.output_area._bokeh_server_id;\n\n    // Clean up Bokeh references\n    if (id != null) {\n      drop(id)\n    }\n\n    if (server_id !== undefined) {\n      // Clean up Bokeh references\n      const cmd_clean = \"from bokeh.io.state import curstate; print(curstate().uuid_to_server['\" + server_id + \"'].get_sessions()[0].document.roots[0]._id)\";\n      cell.notebook.kernel.execute(cmd_clean, {\n        iopub: {\n          output: function(msg) {\n            const id = msg.content.text.trim()\n            drop(id)\n          }\n        }\n      });\n      // Destroy server and session\n      const cmd_destroy = \"import bokeh.io.notebook as ion; ion.destroy_server('\" + server_id + \"')\";\n      cell.notebook.kernel.execute(cmd_destroy);\n    }\n  }\n\n  /**\n   * Handle when a new output is added\n   */\n  function handleAddOutput(event, handle) {\n    const output_area = handle.output_area;\n    const output = handle.output;\n\n    // limit handleAddOutput to display_data with EXEC_MIME_TYPE content only\n    if ((output.output_type != \"display_data\") || (!Object.prototype.hasOwnProperty.call(output.data, EXEC_MIME_TYPE))) {\n      return\n    }\n\n    const toinsert = output_area.element.find(\".\" + CLASS_NAME.split(' ')[0]);\n\n    if (output.metadata[EXEC_MIME_TYPE][\"id\"] !== undefined) {\n      toinsert[toinsert.length - 1].firstChild.textContent = output.data[JS_MIME_TYPE];\n      // store reference to embed id on output_area\n      output_area._bokeh_element_id = output.metadata[EXEC_MIME_TYPE][\"id\"];\n    }\n    if (output.metadata[EXEC_MIME_TYPE][\"server_id\"] !== undefined) {\n      const bk_div = document.createElement(\"div\");\n      bk_div.innerHTML = output.data[HTML_MIME_TYPE];\n      const script_attrs = bk_div.children[0].attributes;\n      for (let i = 0; i < script_attrs.length; i++) {\n        toinsert[toinsert.length - 1].firstChild.setAttribute(script_attrs[i].name, script_attrs[i].value);\n        toinsert[toinsert.length - 1].firstChild.textContent = bk_div.children[0].textContent\n      }\n      // store reference to server id on output_area\n      output_area._bokeh_server_id = output.metadata[EXEC_MIME_TYPE][\"server_id\"];\n    }\n  }\n\n  function register_renderer(events, OutputArea) {\n\n    function append_mime(data, metadata, element) {\n      // create a DOM node to render to\n      const toinsert = this.create_output_subarea(\n        metadata,\n        CLASS_NAME,\n        EXEC_MIME_TYPE\n      );\n      this.keyboard_manager.register_events(toinsert);\n      // Render to node\n      const props = {data: data, metadata: metadata[EXEC_MIME_TYPE]};\n      render(props, toinsert[toinsert.length - 1]);\n      element.append(toinsert);\n      return toinsert\n    }\n\n    /* Handle when an output is cleared or removed */\n    events.on('clear_output.CodeCell', handleClearOutput);\n    events.on('delete.Cell', handleClearOutput);\n\n    /* Handle when a new output is added */\n    events.on('output_added.OutputArea', handleAddOutput);\n\n    /**\n     * Register the mime type and append_mime function with output_area\n     */\n    OutputArea.prototype.register_mime_type(EXEC_MIME_TYPE, append_mime, {\n      /* Is output safe? */\n      safe: true,\n      /* Index of renderer in `output_area.display_order` */\n      index: 0\n    });\n  }\n\n  // register the mime type if in Jupyter Notebook environment and previously unregistered\n  if (root.Jupyter !== undefined) {\n    const events = require('base/js/events');\n    const OutputArea = require('notebook/js/outputarea').OutputArea;\n\n    if (OutputArea.prototype.mime_types().indexOf(EXEC_MIME_TYPE) == -1) {\n      register_renderer(events, OutputArea);\n    }\n  }\n  if (typeof (root._bokeh_timeout) === \"undefined\" || force === true) {\n    root._bokeh_timeout = Date.now() + 5000;\n    root._bokeh_failed_load = false;\n  }\n\n  const NB_LOAD_WARNING = {'data': {'text/html':\n     \"<div style='background-color: #fdd'>\\n\"+\n     \"<p>\\n\"+\n     \"BokehJS does not appear to have successfully loaded. If loading BokehJS from CDN, this \\n\"+\n     \"may be due to a slow or bad network connection. Possible fixes:\\n\"+\n     \"</p>\\n\"+\n     \"<ul>\\n\"+\n     \"<li>re-rerun `output_notebook()` to attempt to load from CDN again, or</li>\\n\"+\n     \"<li>use INLINE resources instead, as so:</li>\\n\"+\n     \"</ul>\\n\"+\n     \"<code>\\n\"+\n     \"from bokeh.resources import INLINE\\n\"+\n     \"output_notebook(resources=INLINE)\\n\"+\n     \"</code>\\n\"+\n     \"</div>\"}};\n\n  function display_loaded() {\n    const el = document.getElementById(null);\n    if (el != null) {\n      el.textContent = \"BokehJS is loading...\";\n    }\n    if (root.Bokeh !== undefined) {\n      if (el != null) {\n        el.textContent = \"BokehJS \" + root.Bokeh.version + \" successfully loaded.\";\n      }\n    } else if (Date.now() < root._bokeh_timeout) {\n      setTimeout(display_loaded, 100)\n    }\n  }\n\n  function run_callbacks() {\n    try {\n      root._bokeh_onload_callbacks.forEach(function(callback) {\n        if (callback != null)\n          callback();\n      });\n    } finally {\n      delete root._bokeh_onload_callbacks\n    }\n    console.debug(\"Bokeh: all callbacks have finished\");\n  }\n\n  function load_libs(css_urls, js_urls, callback) {\n    if (css_urls == null) css_urls = [];\n    if (js_urls == null) js_urls = [];\n\n    root._bokeh_onload_callbacks.push(callback);\n    if (root._bokeh_is_loading > 0) {\n      console.debug(\"Bokeh: BokehJS is being loaded, scheduling callback at\", now());\n      return null;\n    }\n    if (js_urls == null || js_urls.length === 0) {\n      run_callbacks();\n      return null;\n    }\n    console.debug(\"Bokeh: BokehJS not loaded, scheduling load and callback at\", now());\n    root._bokeh_is_loading = css_urls.length + js_urls.length;\n\n    function on_load() {\n      root._bokeh_is_loading--;\n      if (root._bokeh_is_loading === 0) {\n        console.debug(\"Bokeh: all BokehJS libraries/stylesheets loaded\");\n        run_callbacks()\n      }\n    }\n\n    function on_error(url) {\n      console.error(\"failed to load \" + url);\n    }\n\n    for (let i = 0; i < css_urls.length; i++) {\n      const url = css_urls[i];\n      const element = document.createElement(\"link\");\n      element.onload = on_load;\n      element.onerror = on_error.bind(null, url);\n      element.rel = \"stylesheet\";\n      element.type = \"text/css\";\n      element.href = url;\n      console.debug(\"Bokeh: injecting link tag for BokehJS stylesheet: \", url);\n      document.body.appendChild(element);\n    }\n\n    for (let i = 0; i < js_urls.length; i++) {\n      const url = js_urls[i];\n      const element = document.createElement('script');\n      element.onload = on_load;\n      element.onerror = on_error.bind(null, url);\n      element.async = false;\n      element.src = url;\n      console.debug(\"Bokeh: injecting script tag for BokehJS library: \", url);\n      document.head.appendChild(element);\n    }\n  };\n\n  function inject_raw_css(css) {\n    const element = document.createElement(\"style\");\n    element.appendChild(document.createTextNode(css));\n    document.body.appendChild(element);\n  }\n\n  const js_urls = [\"https://cdn.bokeh.org/bokeh/release/bokeh-3.3.0.min.js\", \"https://cdn.bokeh.org/bokeh/release/bokeh-gl-3.3.0.min.js\", \"https://cdn.bokeh.org/bokeh/release/bokeh-widgets-3.3.0.min.js\", \"https://cdn.bokeh.org/bokeh/release/bokeh-tables-3.3.0.min.js\", \"https://cdn.bokeh.org/bokeh/release/bokeh-mathjax-3.3.0.min.js\"];\n  const css_urls = [];\n\n  const inline_js = [    function(Bokeh) {\n      Bokeh.set_log_level(\"info\");\n    },\nfunction(Bokeh) {\n    }\n  ];\n\n  function run_inline_js() {\n    if (root.Bokeh !== undefined || force === true) {\n          for (let i = 0; i < inline_js.length; i++) {\n      inline_js[i].call(root, root.Bokeh);\n    }\n} else if (Date.now() < root._bokeh_timeout) {\n      setTimeout(run_inline_js, 100);\n    } else if (!root._bokeh_failed_load) {\n      console.log(\"Bokeh: BokehJS failed to load within specified timeout.\");\n      root._bokeh_failed_load = true;\n    } else if (force !== true) {\n      const cell = $(document.getElementById(null)).parents('.cell').data().cell;\n      cell.output_area.append_execute_result(NB_LOAD_WARNING)\n    }\n  }\n\n  if (root._bokeh_is_loading === 0) {\n    console.debug(\"Bokeh: BokehJS loaded, going straight to plotting\");\n    run_inline_js();\n  } else {\n    load_libs(css_urls, js_urls, function() {\n      console.debug(\"Bokeh: BokehJS plotting callback run at\", now());\n      run_inline_js();\n    });\n  }\n}(window));",
            "application/vnd.bokehjs_load.v0+json": ""
          },
          "metadata": {},
          "output_type": "display_data"
        },
        {
          "data": {
            "text/html": [
              "\n",
              "  <div id=\"ae020b83-80e1-4ad1-be4c-3b378961584a\" data-root-id=\"p1281\" style=\"display: contents;\"></div>\n"
            ]
          },
          "metadata": {},
          "output_type": "display_data"
        },
        {
          "data": {
            "application/javascript": "(function(root) {\n  function embed_document(root) {\n  const docs_json = {\"29dcb90a-b5f3-4528-a719-08f5d0da7f15\":{\"version\":\"3.3.0\",\"title\":\"Bokeh Application\",\"roots\":[{\"type\":\"object\",\"name\":\"Figure\",\"id\":\"p1281\",\"attributes\":{\"width\":700,\"height\":700,\"x_range\":{\"type\":\"object\",\"name\":\"DataRange1d\",\"id\":\"p1282\"},\"y_range\":{\"type\":\"object\",\"name\":\"DataRange1d\",\"id\":\"p1283\"},\"x_scale\":{\"type\":\"object\",\"name\":\"LinearScale\",\"id\":\"p1291\"},\"y_scale\":{\"type\":\"object\",\"name\":\"LinearScale\",\"id\":\"p1292\"},\"title\":{\"type\":\"object\",\"name\":\"Title\",\"id\":\"p1284\",\"attributes\":{\"text\":\"Top Authors: Rating vs. Customers Rated\"}},\"renderers\":[{\"type\":\"object\",\"name\":\"GlyphRenderer\",\"id\":\"p1319\",\"attributes\":{\"data_source\":{\"type\":\"object\",\"name\":\"ColumnDataSource\",\"id\":\"p1310\",\"attributes\":{\"selected\":{\"type\":\"object\",\"name\":\"Selection\",\"id\":\"p1311\",\"attributes\":{\"indices\":[],\"line_indices\":[]}},\"selection_policy\":{\"type\":\"object\",\"name\":\"UnionRenderers\",\"id\":\"p1312\"},\"data\":{\"type\":\"map\",\"entries\":[[\"index\",{\"type\":\"ndarray\",\"array\":{\"type\":\"bytes\",\"data\":\"JAAAACMAAAASAAAAAwAAAAcAAAAWAAAACQAAAAIAAAAEAAAAJQAAACAAAAANAAAAFwAAAAoAAAAnAAAADAAAABsAAAAQAAAALQAAADQAAAA=\"},\"shape\":[20],\"dtype\":\"int32\",\"order\":\"little\"}],[\"Book Name\",{\"type\":\"ndarray\",\"array\":[\"The Alchemist\",\"The Subtle Art of Not Giving a F*ck: A Counterintuitive Approach to Living a Good Life\",\"How to Win Friends\\u00a0and Influence People\",\"Atomic Habits: the life-changing million-copy #1 bestseller\",\"The Power of Your Subconscious Mind\",\"The Power of Your Subconscious Mind\",\"My First Library: Boxset of 10 Board Books for Kids\",\"The Psychology Of Money\",\"Ikigai\",\"The 5 Am Club\",\"Thinking, Fast & Slow (L)\",\"Rich Dad Poor Dad: 25th Anniversary Edit: (25th Anniversary Edition)\",\"My First Book of Patterns Pencil Control: Practice Patterns (Pattern Writing)\",\"World's Greatest Pack for Personal Growth and Wealth (Set of 4 Books)\",\"Tuesdays With Morrie: An old man, a young man, and life's greatest lesson [Paperback] Albom, Mitch\",\"Grandma's Bag of Stories: Collection of 20+ Illustrated short stories, traditional Indian folk tales for all ages for childre\",\"THE 48 LAWS OF POWER\",\"Shrimad Bhagwat Geeta Yatharoop\",\"Rich Dad Poor Dad ( Original & Complete) Hindi\",\"KARMA: A YOGI'S GUIDE TO CRAFTING YOUR DESTINY\"],\"shape\":[20],\"dtype\":\"object\",\"order\":\"little\"}],[\"Author\",{\"type\":\"ndarray\",\"array\":[\"Paulo Coelho\",\"Mark Manson\",\"Dale Carnegie\",\"James Clear\",\"Joseph Murphy\",\"Joseph Murphy\",\"Wonder House Books\",\"Morgan Housel\",\"Francesc Miralles\",\"Robin Sharma\",\"Daniel Kahneman\",\"Robert T. Kiyosaki\",\"Wonder House Books\",\"Dale Carnegie\",\"Mitch Albom\",\"Murty Sudha\",\"Robert Greene\",\"A.C. Bhaktivendanta Swami Prabhupada\",\"Robert T. Kiyosaki\",\"Sadhguru\"],\"shape\":[20],\"dtype\":\"object\",\"order\":\"little\"}],[\"Rating\",{\"type\":\"ndarray\",\"array\":{\"type\":\"bytes\",\"data\":\"ZmZmZmZmEkAAAAAAAAASQAAAAAAAABJAZmZmZmZmEkAAAAAAAAASQAAAAAAAABJAAAAAAAAAEkBmZmZmZmYSQGZmZmZmZhJAAAAAAAAAEkAAAAAAAAASQAAAAAAAABJAmpmZmZmZEUAAAAAAAAASQGZmZmZmZhJAZmZmZmZmEkBmZmZmZmYSQDMzMzMzMxNAAAAAAAAAEkDNzMzMzMwSQA==\"},\"shape\":[20],\"dtype\":\"float64\",\"order\":\"little\"}],[\"Customers_Rated\",{\"type\":\"ndarray\",\"array\":{\"type\":\"bytes\",\"data\":\"AAAAALhKAUEAAAAACNgAQQAAAADgz/VAAAAAAHDR9EAAAAAAsCPzQAAAAACwI/NAAAAAAPDo8UAAAAAA4PnqQAAAAABA3+hAAAAAAMCA3UAAAAAAgHvbQAAAAACAoNlAAAAAAEBV2UAAAAAAAGPYQAAAAACAAddAAAAAAICs00AAAAAAwJvRQAAAAADAF9FAAAAAAABpzkAAAAAAALHMQA==\"},\"shape\":[20],\"dtype\":\"float64\",\"order\":\"little\"}],[\"Price\",{\"type\":\"ndarray\",\"array\":{\"type\":\"bytes\",\"data\":\"9gAAAMsAAABZAAAA0wEAAGgAAABjAAAAjgEAAOYAAAAKAQAAygAAAAwBAABpAQAAWAAAACABAADrAAAApwAAAEwCAAAWAQAA2gAAAKkAAAA=\"},\"shape\":[20],\"dtype\":\"int32\",\"order\":\"little\"}]]}}},\"view\":{\"type\":\"object\",\"name\":\"CDSView\",\"id\":\"p1320\",\"attributes\":{\"filter\":{\"type\":\"object\",\"name\":\"AllIndices\",\"id\":\"p1321\"}}},\"glyph\":{\"type\":\"object\",\"name\":\"Scatter\",\"id\":\"p1316\",\"attributes\":{\"x\":{\"type\":\"field\",\"field\":\"Rating\"},\"y\":{\"type\":\"field\",\"field\":\"Customers_Rated\"},\"size\":{\"type\":\"value\",\"value\":20},\"line_color\":{\"type\":\"value\",\"value\":\"#1f77b4\"},\"fill_color\":{\"type\":\"field\",\"field\":\"Author\",\"transform\":{\"type\":\"object\",\"name\":\"CategoricalColorMapper\",\"id\":\"p1280\",\"attributes\":{\"palette\":[\"#1f77b4\",\"#aec7e8\",\"#ff7f0e\",\"#ffbb78\",\"#2ca02c\",\"#98df8a\",\"#d62728\",\"#ff9896\",\"#9467bd\",\"#c5b0d5\",\"#8c564b\",\"#c49c94\",\"#e377c2\",\"#f7b6d2\",\"#7f7f7f\",\"#c7c7c7\",\"#bcbd22\",\"#dbdb8d\",\"#17becf\",\"#9edae5\"],\"factors\":{\"type\":\"ndarray\",\"array\":[\"Paulo Coelho\",\"Mark Manson\",\"Dale Carnegie\",\"James Clear\",\"Joseph Murphy\",\"Joseph Murphy\",\"Wonder House Books\",\"Morgan Housel\",\"Francesc Miralles\",\"Robin Sharma\",\"Daniel Kahneman\",\"Robert T. Kiyosaki\",\"Wonder House Books\",\"Dale Carnegie\",\"Mitch Albom\",\"Murty Sudha\",\"Robert Greene\",\"A.C. Bhaktivendanta Swami Prabhupada\",\"Robert T. Kiyosaki\",\"Sadhguru\"],\"shape\":[20],\"dtype\":\"object\",\"order\":\"little\"}}}},\"fill_alpha\":{\"type\":\"value\",\"value\":0.6}}},\"nonselection_glyph\":{\"type\":\"object\",\"name\":\"Scatter\",\"id\":\"p1317\",\"attributes\":{\"x\":{\"type\":\"field\",\"field\":\"Rating\"},\"y\":{\"type\":\"field\",\"field\":\"Customers_Rated\"},\"size\":{\"type\":\"value\",\"value\":20},\"line_color\":{\"type\":\"value\",\"value\":\"#1f77b4\"},\"line_alpha\":{\"type\":\"value\",\"value\":0.1},\"fill_color\":{\"type\":\"field\",\"field\":\"Author\",\"transform\":{\"id\":\"p1280\"}},\"fill_alpha\":{\"type\":\"value\",\"value\":0.1},\"hatch_alpha\":{\"type\":\"value\",\"value\":0.1}}},\"muted_glyph\":{\"type\":\"object\",\"name\":\"Scatter\",\"id\":\"p1318\",\"attributes\":{\"x\":{\"type\":\"field\",\"field\":\"Rating\"},\"y\":{\"type\":\"field\",\"field\":\"Customers_Rated\"},\"size\":{\"type\":\"value\",\"value\":20},\"line_color\":{\"type\":\"value\",\"value\":\"#1f77b4\"},\"line_alpha\":{\"type\":\"value\",\"value\":0.2},\"fill_color\":{\"type\":\"field\",\"field\":\"Author\",\"transform\":{\"id\":\"p1280\"}},\"fill_alpha\":{\"type\":\"value\",\"value\":0.2},\"hatch_alpha\":{\"type\":\"value\",\"value\":0.2}}}}}],\"toolbar\":{\"type\":\"object\",\"name\":\"Toolbar\",\"id\":\"p1290\",\"attributes\":{\"tools\":[{\"type\":\"object\",\"name\":\"PanTool\",\"id\":\"p1303\"},{\"type\":\"object\",\"name\":\"WheelZoomTool\",\"id\":\"p1304\",\"attributes\":{\"renderers\":\"auto\"}},{\"type\":\"object\",\"name\":\"BoxZoomTool\",\"id\":\"p1305\",\"attributes\":{\"overlay\":{\"type\":\"object\",\"name\":\"BoxAnnotation\",\"id\":\"p1306\",\"attributes\":{\"syncable\":false,\"level\":\"overlay\",\"visible\":false,\"left_units\":\"canvas\",\"right_units\":\"canvas\",\"top_units\":\"canvas\",\"bottom_units\":\"canvas\",\"line_color\":\"black\",\"line_alpha\":1.0,\"line_width\":2,\"line_dash\":[4,4],\"fill_color\":\"lightgrey\",\"fill_alpha\":0.5}}}},{\"type\":\"object\",\"name\":\"SaveTool\",\"id\":\"p1307\"},{\"type\":\"object\",\"name\":\"ResetTool\",\"id\":\"p1308\"},{\"type\":\"object\",\"name\":\"HelpTool\",\"id\":\"p1309\"}]}},\"left\":[{\"type\":\"object\",\"name\":\"LinearAxis\",\"id\":\"p1298\",\"attributes\":{\"ticker\":{\"type\":\"object\",\"name\":\"BasicTicker\",\"id\":\"p1299\",\"attributes\":{\"mantissas\":[1,2,5]}},\"formatter\":{\"type\":\"object\",\"name\":\"BasicTickFormatter\",\"id\":\"p1300\"},\"axis_label\":\"CUSTOMERS RATED\",\"major_label_policy\":{\"type\":\"object\",\"name\":\"AllLabels\",\"id\":\"p1301\"}}}],\"below\":[{\"type\":\"object\",\"name\":\"LinearAxis\",\"id\":\"p1293\",\"attributes\":{\"ticker\":{\"type\":\"object\",\"name\":\"BasicTicker\",\"id\":\"p1294\",\"attributes\":{\"mantissas\":[1,2,5]}},\"formatter\":{\"type\":\"object\",\"name\":\"BasicTickFormatter\",\"id\":\"p1295\"},\"axis_label\":\"RATING\",\"major_label_policy\":{\"type\":\"object\",\"name\":\"AllLabels\",\"id\":\"p1296\"}}}],\"center\":[{\"type\":\"object\",\"name\":\"Grid\",\"id\":\"p1297\",\"attributes\":{\"axis\":{\"id\":\"p1293\"}}},{\"type\":\"object\",\"name\":\"Grid\",\"id\":\"p1302\",\"attributes\":{\"dimension\":1,\"axis\":{\"id\":\"p1298\"}}},{\"type\":\"object\",\"name\":\"Legend\",\"id\":\"p1322\",\"attributes\":{\"location\":\"top_left\",\"items\":[{\"type\":\"object\",\"name\":\"LegendItem\",\"id\":\"p1323\",\"attributes\":{\"label\":{\"type\":\"value\",\"value\":\"Author\"},\"renderers\":[{\"id\":\"p1319\"}]}}]}}]}}]}};\n  const render_items = [{\"docid\":\"29dcb90a-b5f3-4528-a719-08f5d0da7f15\",\"roots\":{\"p1281\":\"ae020b83-80e1-4ad1-be4c-3b378961584a\"},\"root_ids\":[\"p1281\"]}];\n  root.Bokeh.embed.embed_items_notebook(docs_json, render_items);\n  }\n  if (root.Bokeh !== undefined) {\n    embed_document(root);\n  } else {\n    let attempts = 0;\n    const timer = setInterval(function(root) {\n      if (root.Bokeh !== undefined) {\n        clearInterval(timer);\n        embed_document(root);\n      } else {\n        attempts++;\n        if (attempts > 100) {\n          clearInterval(timer);\n          console.log(\"Bokeh: ERROR: Unable to run BokehJS code because BokehJS library is missing\");\n        }\n      }\n    }, 10, root)\n  }\n})(window);",
            "application/vnd.bokehjs_exec.v0+json": ""
          },
          "metadata": {
            "application/vnd.bokehjs_exec.v0+json": {
              "id": "p1281"
            }
          },
          "output_type": "display_data"
        }
      ],
      "source": [
        "from bokeh.transform import factor_cmap\n",
        "from bokeh.models import Legend\n",
        "from bokeh.palettes import Dark2_5 as palette\n",
        "import itertools\n",
        "from bokeh.palettes import d3\n",
        "#colors has a list of colors which can be used in plots\n",
        "colors = itertools.cycle(palette)\n",
        "\n",
        "palette = d3['Category20'][20]\n",
        "\n",
        "index_cmap = factor_cmap('Author', palette=palette,\n",
        "                         factors=data[\"Author\"])\n",
        "\n",
        "p = figure(width=700, height=700, title = \"Top Authors: Rating vs. Customers Rated\")\n",
        "p.scatter('Rating','Customers_Rated',source=data,fill_alpha=0.6, fill_color=index_cmap,size=20, legend_label='Author')\n",
        "p.xaxis.axis_label = 'RATING'\n",
        "p.yaxis.axis_label = 'CUSTOMERS RATED'\n",
        "p.legend.location = 'top_left'\n",
        "\n",
        "\n",
        "show(p)"
      ]
    },
    {
      "cell_type": "markdown",
      "metadata": {
        "id": "N4Cxmx2fB01y"
      },
      "source": []
    },
    {
      "cell_type": "markdown",
      "metadata": {
        "id": "JxCKG1CWADHi"
      },
      "source": [
        "\n",
        "\n",
        "Le graphique ci-dessus est un nuage de points des auteurs qui ont évalué la note du client par rapport à la note réelle. Les conclusions suivantes peuvent être tirées après avoir examiné le graphique ci-dessus.\n",
        "\n",
        "De loin, le livre de Paulo Coelho The Alchemist est le livre le plus vendu depuis la notation, et le nombre de clients notés sont tous deux synchronisés.\n",
        "   \n",
        "Le livre de l'auteur, Amish Tripathi, Ram - Scion of Ikshvaku (Ram Chandra) a une note de 4,2 avec une note de 5766 clients. Cependant, le livre de l'auteur George S. Clason, The Richest Man in Babylon, a une note de clients presque similaire, mais la note globale est de 4,5. Par conséquent, on peut conclure que davantage de clients ont donné une note élevée à l'homme le plus riche de Babylone.\n",
        "\n"
      ]
    }
  ],
  "metadata": {
    "colab": {
      "provenance": []
    },
    "kernelspec": {
      "display_name": "Python 3",
      "name": "python3"
    },
    "language_info": {
      "name": "python"
    }
  },
  "nbformat": 4,
  "nbformat_minor": 0
}
